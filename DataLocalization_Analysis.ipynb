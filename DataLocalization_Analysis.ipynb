{
 "cells": [
  {
   "cell_type": "markdown",
   "metadata": {},
   "source": [
    "Useful Definitions:\n",
    "\n",
    "A. Strict restrictions on cross-border data flows:\n",
    " I: Local storage requirement;\n",
    " II: Local storage and processing requirement;\n",
    " III: Ban on data transfer (i.e. local storage, local processing and local access\n",
    " requirement).\n",
    " \n",
    " \n",
    "B. Conditional restrictions to cross-border data flows:\n",
    " IV: Conditional flow regime where conditions apply to the recipient country;\n",
    " V: Conditional flow regime where conditions apply to the data controller or\n",
    " data processor."
   ]
  },
  {
   "cell_type": "code",
   "execution_count": 1,
   "metadata": {},
   "outputs": [],
   "source": [
    "import pandas as pd\n",
    "import matplotlib.pyplot as plt\n",
    "import seaborn as sns\n",
    "import statsmodels.api as sm\n",
    "import numpy as np\n",
    "import operator\n",
    "\n",
    "from sklearn.linear_model import LinearRegression\n",
    "from sklearn.metrics import mean_squared_error, r2_score\n",
    "from sklearn.preprocessing import PolynomialFeatures\n",
    "import statsmodels.formula.api as smf"
   ]
  },
  {
   "cell_type": "code",
   "execution_count": 2,
   "metadata": {},
   "outputs": [],
   "source": [
    "df = pd.read_csv('regulations_data.csv')"
   ]
  },
  {
   "cell_type": "markdown",
   "metadata": {},
   "source": [
    "## EDA"
   ]
  },
  {
   "cell_type": "code",
   "execution_count": 3,
   "metadata": {},
   "outputs": [
    {
     "data": {
      "text/html": [
       "<div>\n",
       "<style scoped>\n",
       "    .dataframe tbody tr th:only-of-type {\n",
       "        vertical-align: middle;\n",
       "    }\n",
       "\n",
       "    .dataframe tbody tr th {\n",
       "        vertical-align: top;\n",
       "    }\n",
       "\n",
       "    .dataframe thead th {\n",
       "        text-align: right;\n",
       "    }\n",
       "</style>\n",
       "<table border=\"1\" class=\"dataframe\">\n",
       "  <thead>\n",
       "    <tr style=\"text-align: right;\">\n",
       "      <th></th>\n",
       "      <th>Country</th>\n",
       "      <th>Chapter</th>\n",
       "      <th>Subchapter</th>\n",
       "      <th>Type</th>\n",
       "      <th>Act/Practice</th>\n",
       "      <th>Coverage</th>\n",
       "      <th>Description</th>\n",
       "      <th>Data_Localization</th>\n",
       "      <th>Time</th>\n",
       "      <th>Timeframe</th>\n",
       "      <th>References</th>\n",
       "      <th>References_2</th>\n",
       "      <th>References_3</th>\n",
       "      <th>References_4</th>\n",
       "    </tr>\n",
       "  </thead>\n",
       "  <tbody>\n",
       "    <tr>\n",
       "      <th>0</th>\n",
       "      <td>UNITED STATES</td>\n",
       "      <td>Online sales and transactions</td>\n",
       "      <td>Online sales</td>\n",
       "      <td>Trading restrictions</td>\n",
       "      <td>Restriction on online sales</td>\n",
       "      <td>E-retail</td>\n",
       "      <td>Three US States (Alabama, Oklahoma and Utah) p...</td>\n",
       "      <td>NaN</td>\n",
       "      <td>2016.0</td>\n",
       "      <td>Reported in 2016</td>\n",
       "      <td>http://www.ncsl.org/research/financial-service...</td>\n",
       "      <td>NaN</td>\n",
       "      <td>NaN</td>\n",
       "      <td>NaN</td>\n",
       "    </tr>\n",
       "    <tr>\n",
       "      <th>1</th>\n",
       "      <td>UNITED STATES</td>\n",
       "      <td>Online sales and transactions</td>\n",
       "      <td>Online sales</td>\n",
       "      <td>Trading restrictions</td>\n",
       "      <td>Restriction on online sales</td>\n",
       "      <td>E-retail</td>\n",
       "      <td>While it is possible to sell drugs online in t...</td>\n",
       "      <td>NaN</td>\n",
       "      <td>NaN</td>\n",
       "      <td>NaN</td>\n",
       "      <td>http://www.fda.gov/AboutFDA/Transparency/Basic...</td>\n",
       "      <td>http://patients.about.com/od/savemoneyondrugs/...</td>\n",
       "      <td>http://www.cnbc.com/2014/05/23/patients-cross-...</td>\n",
       "      <td>https://www.canadapost.ca/tools/pg/manual/PGcu...</td>\n",
       "    </tr>\n",
       "    <tr>\n",
       "      <th>2</th>\n",
       "      <td>UNITED STATES</td>\n",
       "      <td>Online sales and transactions</td>\n",
       "      <td>Online sales</td>\n",
       "      <td>Trading restrictions</td>\n",
       "      <td>Revised Code of Washington (RCW)</td>\n",
       "      <td>E-retail</td>\n",
       "      <td>Since July 2009, ordering most of tobacco prod...</td>\n",
       "      <td>NaN</td>\n",
       "      <td>2009.0</td>\n",
       "      <td>Since July 2009</td>\n",
       "      <td>http://www.atg.wa.gov/ban-internet-and-mail-or...</td>\n",
       "      <td>NaN</td>\n",
       "      <td>NaN</td>\n",
       "      <td>NaN</td>\n",
       "    </tr>\n",
       "    <tr>\n",
       "      <th>3</th>\n",
       "      <td>UNITED STATES</td>\n",
       "      <td>Online sales and transactions</td>\n",
       "      <td>Online sales</td>\n",
       "      <td>Trading restrictions</td>\n",
       "      <td>Wire Act (1961) \\n\\nIllegal Gambling Business ...</td>\n",
       "      <td>Online gambling</td>\n",
       "      <td>Overlapping Federal and State regulations proh...</td>\n",
       "      <td>NaN</td>\n",
       "      <td>1961.0</td>\n",
       "      <td>Since 1961</td>\n",
       "      <td>https://www.wto.org/english/tratop_e/dispu_e/c...</td>\n",
       "      <td>https://www.law.cornell.edu/uscode/text/18/1084</td>\n",
       "      <td>http://www.fbi.gov/news/stories/2007/june/gamb...</td>\n",
       "      <td>NaN</td>\n",
       "    </tr>\n",
       "    <tr>\n",
       "      <th>4</th>\n",
       "      <td>UNITED STATES</td>\n",
       "      <td>Online sales and transactions</td>\n",
       "      <td>Domain name (DNS) registration requirements</td>\n",
       "      <td>Trading restrictions</td>\n",
       "      <td>usTLD Nexus Requirements Policy</td>\n",
       "      <td>Horizontal</td>\n",
       "      <td>Foreign entities or organizations need a bona ...</td>\n",
       "      <td>NaN</td>\n",
       "      <td>NaN</td>\n",
       "      <td>NaN</td>\n",
       "      <td>http://www.neustar.us/the-ustld-nexus-requirem...</td>\n",
       "      <td>http://www.business-sweden.se/Export/Exportreg...</td>\n",
       "      <td>NaN</td>\n",
       "      <td>NaN</td>\n",
       "    </tr>\n",
       "  </tbody>\n",
       "</table>\n",
       "</div>"
      ],
      "text/plain": [
       "         Country                        Chapter  \\\n",
       "0  UNITED STATES  Online sales and transactions   \n",
       "1  UNITED STATES  Online sales and transactions   \n",
       "2  UNITED STATES  Online sales and transactions   \n",
       "3  UNITED STATES  Online sales and transactions   \n",
       "4  UNITED STATES  Online sales and transactions   \n",
       "\n",
       "                                    Subchapter                  Type  \\\n",
       "0                                 Online sales  Trading restrictions   \n",
       "1                                 Online sales  Trading restrictions   \n",
       "2                                 Online sales  Trading restrictions   \n",
       "3                                 Online sales  Trading restrictions   \n",
       "4  Domain name (DNS) registration requirements  Trading restrictions   \n",
       "\n",
       "                                        Act/Practice         Coverage  \\\n",
       "0                        Restriction on online sales         E-retail   \n",
       "1                        Restriction on online sales         E-retail   \n",
       "2                   Revised Code of Washington (RCW)         E-retail   \n",
       "3  Wire Act (1961) \\n\\nIllegal Gambling Business ...  Online gambling   \n",
       "4                    usTLD Nexus Requirements Policy       Horizontal   \n",
       "\n",
       "                                         Description Data_Localization  \\\n",
       "0  Three US States (Alabama, Oklahoma and Utah) p...               NaN   \n",
       "1  While it is possible to sell drugs online in t...               NaN   \n",
       "2  Since July 2009, ordering most of tobacco prod...               NaN   \n",
       "3  Overlapping Federal and State regulations proh...               NaN   \n",
       "4  Foreign entities or organizations need a bona ...               NaN   \n",
       "\n",
       "     Time         Timeframe  \\\n",
       "0  2016.0  Reported in 2016   \n",
       "1     NaN               NaN   \n",
       "2  2009.0   Since July 2009   \n",
       "3  1961.0        Since 1961   \n",
       "4     NaN               NaN   \n",
       "\n",
       "                                          References  \\\n",
       "0  http://www.ncsl.org/research/financial-service...   \n",
       "1  http://www.fda.gov/AboutFDA/Transparency/Basic...   \n",
       "2  http://www.atg.wa.gov/ban-internet-and-mail-or...   \n",
       "3  https://www.wto.org/english/tratop_e/dispu_e/c...   \n",
       "4  http://www.neustar.us/the-ustld-nexus-requirem...   \n",
       "\n",
       "                                        References_2  \\\n",
       "0                                                NaN   \n",
       "1  http://patients.about.com/od/savemoneyondrugs/...   \n",
       "2                                                NaN   \n",
       "3    https://www.law.cornell.edu/uscode/text/18/1084   \n",
       "4  http://www.business-sweden.se/Export/Exportreg...   \n",
       "\n",
       "                                        References_3  \\\n",
       "0                                                NaN   \n",
       "1  http://www.cnbc.com/2014/05/23/patients-cross-...   \n",
       "2                                                NaN   \n",
       "3  http://www.fbi.gov/news/stories/2007/june/gamb...   \n",
       "4                                                NaN   \n",
       "\n",
       "                                        References_4  \n",
       "0                                                NaN  \n",
       "1  https://www.canadapost.ca/tools/pg/manual/PGcu...  \n",
       "2                                                NaN  \n",
       "3                                                NaN  \n",
       "4                                                NaN  "
      ]
     },
     "execution_count": 3,
     "metadata": {},
     "output_type": "execute_result"
    }
   ],
   "source": [
    "df.head()"
   ]
  },
  {
   "cell_type": "code",
   "execution_count": 4,
   "metadata": {},
   "outputs": [
    {
     "data": {
      "text/plain": [
       "(1821, 14)"
      ]
     },
     "execution_count": 4,
     "metadata": {},
     "output_type": "execute_result"
    }
   ],
   "source": [
    "df.shape"
   ]
  },
  {
   "cell_type": "code",
   "execution_count": 5,
   "metadata": {},
   "outputs": [
    {
     "data": {
      "text/plain": [
       "Index(['Country', 'Chapter', 'Subchapter', 'Type', 'Act/Practice', 'Coverage',\n",
       "       'Description', 'Data_Localization', 'Time', 'Timeframe', 'References',\n",
       "       'References_2', 'References_3', 'References_4'],\n",
       "      dtype='object')"
      ]
     },
     "execution_count": 5,
     "metadata": {},
     "output_type": "execute_result"
    }
   ],
   "source": [
    "df.columns"
   ]
  },
  {
   "cell_type": "code",
   "execution_count": 6,
   "metadata": {},
   "outputs": [
    {
     "data": {
      "text/plain": [
       "array(['UNITED STATES', 'TURKEY', 'SWITZERLAND', 'SOUTH AFRICA', 'RUSSIA',\n",
       "       'PARAGUAY', 'PANAMA', 'PAKISTAN', 'NORWAY', 'NIGERIA', 'INDIA',\n",
       "       'ISRAEL', 'ICELAND', 'UNITED KINGDOM', 'SWEDEN', 'SPAIN',\n",
       "       'SLOVENIA', 'SLOVAKIA', 'ROMANIA', 'PORTUGAL', 'POLAND',\n",
       "       'NETHERLANDS', 'MALTA', 'LUXEMBOURG', 'LATVIA', 'LITHUANIA',\n",
       "       'ITALY', 'IRELAND', 'HUNGARY', 'GREECE', 'GERMANY', 'FRANCE',\n",
       "       'FINLAND', 'ESTONIA', 'DENMARK', 'CZECH REPUBLIC', 'CYPRUS',\n",
       "       'CROATIA', 'BULGARIA', 'BELGIUM', 'AUSTRIA', 'ECUADOR',\n",
       "       'COSTA RICA', 'COLOMBIA', 'ARGENTINA', 'THAILAND', 'TAIWAN',\n",
       "       'SINGAPORE', 'PHILIPPINES', 'NEW ZEALAND', 'MEXICO', 'MALAYSIA',\n",
       "       'KOREA', 'JAPAN', 'INDONESIA', 'HONG KONG', 'CHILE', 'CANADA',\n",
       "       'BRUNEI', 'PERU', 'AUSTRALIA', 'VIETNAM', 'CHINA', 'BRAZIL',\n",
       "       'EUROPEAN UNION', '0'], dtype=object)"
      ]
     },
     "execution_count": 6,
     "metadata": {},
     "output_type": "execute_result"
    }
   ],
   "source": [
    "df.Country.unique()"
   ]
  },
  {
   "cell_type": "code",
   "execution_count": 7,
   "metadata": {},
   "outputs": [
    {
     "data": {
      "text/plain": [
       "66"
      ]
     },
     "execution_count": 7,
     "metadata": {},
     "output_type": "execute_result"
    }
   ],
   "source": [
    "len(df.Country.unique())"
   ]
  },
  {
   "cell_type": "code",
   "execution_count": 8,
   "metadata": {},
   "outputs": [],
   "source": [
    "df_type_dataFlow = df[df.Subchapter == 'Restrictions on cross-border data flows']"
   ]
  },
  {
   "cell_type": "code",
   "execution_count": 9,
   "metadata": {},
   "outputs": [
    {
     "data": {
      "text/plain": [
       "(108, 14)"
      ]
     },
     "execution_count": 9,
     "metadata": {},
     "output_type": "execute_result"
    }
   ],
   "source": [
    "df_type_dataFlow.shape"
   ]
  },
  {
   "cell_type": "code",
   "execution_count": 10,
   "metadata": {},
   "outputs": [
    {
     "data": {
      "text/plain": [
       "46"
      ]
     },
     "execution_count": 10,
     "metadata": {},
     "output_type": "execute_result"
    }
   ],
   "source": [
    "len(df_type_dataFlow.Country.unique())"
   ]
  },
  {
   "cell_type": "code",
   "execution_count": 11,
   "metadata": {},
   "outputs": [
    {
     "data": {
      "text/html": [
       "<div>\n",
       "<style scoped>\n",
       "    .dataframe tbody tr th:only-of-type {\n",
       "        vertical-align: middle;\n",
       "    }\n",
       "\n",
       "    .dataframe tbody tr th {\n",
       "        vertical-align: top;\n",
       "    }\n",
       "\n",
       "    .dataframe thead th {\n",
       "        text-align: right;\n",
       "    }\n",
       "</style>\n",
       "<table border=\"1\" class=\"dataframe\">\n",
       "  <thead>\n",
       "    <tr style=\"text-align: right;\">\n",
       "      <th></th>\n",
       "      <th>Country</th>\n",
       "      <th>Chapter</th>\n",
       "      <th>Subchapter</th>\n",
       "      <th>Type</th>\n",
       "      <th>Act/Practice</th>\n",
       "      <th>Coverage</th>\n",
       "      <th>Description</th>\n",
       "      <th>Data_Localization</th>\n",
       "      <th>Time</th>\n",
       "      <th>Timeframe</th>\n",
       "      <th>References</th>\n",
       "      <th>References_2</th>\n",
       "      <th>References_3</th>\n",
       "      <th>References_4</th>\n",
       "    </tr>\n",
       "  </thead>\n",
       "  <tbody>\n",
       "    <tr>\n",
       "      <th>17</th>\n",
       "      <td>UNITED STATES</td>\n",
       "      <td>Data policies</td>\n",
       "      <td>Restrictions on cross-border data flows</td>\n",
       "      <td>Restrictions on data</td>\n",
       "      <td>California Consumer Privacy Act of 2018</td>\n",
       "      <td>Horizontal</td>\n",
       "      <td>While in the United States there is no nationa...</td>\n",
       "      <td>NaN</td>\n",
       "      <td>2018.0</td>\n",
       "      <td>Since 2018</td>\n",
       "      <td>https://oag.ca.gov/system/files/initiatives/pd...</td>\n",
       "      <td>https://oag.ca.gov/system/files/initiatives/pd...</td>\n",
       "      <td>https://www.theverge.com/2018/6/28/17509720/ca...</td>\n",
       "      <td>https://www.caprivacy.org/facts</td>\n",
       "    </tr>\n",
       "    <tr>\n",
       "      <th>18</th>\n",
       "      <td>UNITED STATES</td>\n",
       "      <td>Data policies</td>\n",
       "      <td>Restrictions on cross-border data flows</td>\n",
       "      <td>Restrictions on data</td>\n",
       "      <td>NaN</td>\n",
       "      <td>Horizontal</td>\n",
       "      <td>There are few limits on the transfer of person...</td>\n",
       "      <td>NaN</td>\n",
       "      <td>NaN</td>\n",
       "      <td>NaN</td>\n",
       "      <td>http://uk.practicallaw.com/6-502-0467#a57587</td>\n",
       "      <td>NaN</td>\n",
       "      <td>NaN</td>\n",
       "      <td>NaN</td>\n",
       "    </tr>\n",
       "    <tr>\n",
       "      <th>19</th>\n",
       "      <td>UNITED STATES</td>\n",
       "      <td>Data policies</td>\n",
       "      <td>Restrictions on cross-border data flows</td>\n",
       "      <td>Restrictions on data</td>\n",
       "      <td>Network Security Agreements</td>\n",
       "      <td>Telecommunication sector</td>\n",
       "      <td>It is reported that foreign communications inf...</td>\n",
       "      <td>NaN</td>\n",
       "      <td>1999.0</td>\n",
       "      <td>Since 1999</td>\n",
       "      <td>https://publicintelligence.net/us-nsas/</td>\n",
       "      <td>https://www.washingtonpost.com/business/techno...</td>\n",
       "      <td>https://info.publicintelligence.net/US-NSAs/US...</td>\n",
       "      <td>NaN</td>\n",
       "    </tr>\n",
       "    <tr>\n",
       "      <th>69</th>\n",
       "      <td>TURKEY</td>\n",
       "      <td>Data policies</td>\n",
       "      <td>Restrictions on cross-border data flows</td>\n",
       "      <td>Restrictions on data</td>\n",
       "      <td>Electronic Communications Act</td>\n",
       "      <td>Electronic communications sector</td>\n",
       "      <td>The transfer of traffic and location data abro...</td>\n",
       "      <td>NaN</td>\n",
       "      <td>2008.0</td>\n",
       "      <td>Since November 2008</td>\n",
       "      <td>http://uk.practicallaw.com/7-520-1896</td>\n",
       "      <td>NaN</td>\n",
       "      <td>NaN</td>\n",
       "      <td>NaN</td>\n",
       "    </tr>\n",
       "    <tr>\n",
       "      <th>70</th>\n",
       "      <td>TURKEY</td>\n",
       "      <td>Data policies</td>\n",
       "      <td>Restrictions on cross-border data flows</td>\n",
       "      <td>Restrictions on data</td>\n",
       "      <td>Data Protection Law No. 6698</td>\n",
       "      <td>Horizontal</td>\n",
       "      <td>The legislation stipulates that data cannot be...</td>\n",
       "      <td>NaN</td>\n",
       "      <td>2016.0</td>\n",
       "      <td>Since April 2016</td>\n",
       "      <td>http://www.mondaq.com/turkey/x/480822/Data+Pro...</td>\n",
       "      <td>http://uk.practicallaw.com/7-520-1896#a350846</td>\n",
       "      <td>http://www.adalet.gov.tr/Tasarilar/kisisel_ver...</td>\n",
       "      <td>NaN</td>\n",
       "    </tr>\n",
       "  </tbody>\n",
       "</table>\n",
       "</div>"
      ],
      "text/plain": [
       "          Country        Chapter                               Subchapter  \\\n",
       "17  UNITED STATES  Data policies  Restrictions on cross-border data flows   \n",
       "18  UNITED STATES  Data policies  Restrictions on cross-border data flows   \n",
       "19  UNITED STATES  Data policies  Restrictions on cross-border data flows   \n",
       "69         TURKEY  Data policies  Restrictions on cross-border data flows   \n",
       "70         TURKEY  Data policies  Restrictions on cross-border data flows   \n",
       "\n",
       "                    Type                             Act/Practice  \\\n",
       "17  Restrictions on data  California Consumer Privacy Act of 2018   \n",
       "18  Restrictions on data                                      NaN   \n",
       "19  Restrictions on data              Network Security Agreements   \n",
       "69  Restrictions on data            Electronic Communications Act   \n",
       "70  Restrictions on data             Data Protection Law No. 6698   \n",
       "\n",
       "                            Coverage  \\\n",
       "17                        Horizontal   \n",
       "18                        Horizontal   \n",
       "19          Telecommunication sector   \n",
       "69  Electronic communications sector   \n",
       "70                        Horizontal   \n",
       "\n",
       "                                          Description Data_Localization  \\\n",
       "17  While in the United States there is no nationa...               NaN   \n",
       "18  There are few limits on the transfer of person...               NaN   \n",
       "19  It is reported that foreign communications inf...               NaN   \n",
       "69  The transfer of traffic and location data abro...               NaN   \n",
       "70  The legislation stipulates that data cannot be...               NaN   \n",
       "\n",
       "      Time            Timeframe  \\\n",
       "17  2018.0           Since 2018   \n",
       "18     NaN                  NaN   \n",
       "19  1999.0           Since 1999   \n",
       "69  2008.0  Since November 2008   \n",
       "70  2016.0     Since April 2016   \n",
       "\n",
       "                                           References  \\\n",
       "17  https://oag.ca.gov/system/files/initiatives/pd...   \n",
       "18       http://uk.practicallaw.com/6-502-0467#a57587   \n",
       "19            https://publicintelligence.net/us-nsas/   \n",
       "69              http://uk.practicallaw.com/7-520-1896   \n",
       "70  http://www.mondaq.com/turkey/x/480822/Data+Pro...   \n",
       "\n",
       "                                         References_2  \\\n",
       "17  https://oag.ca.gov/system/files/initiatives/pd...   \n",
       "18                                                NaN   \n",
       "19  https://www.washingtonpost.com/business/techno...   \n",
       "69                                                NaN   \n",
       "70      http://uk.practicallaw.com/7-520-1896#a350846   \n",
       "\n",
       "                                         References_3  \\\n",
       "17  https://www.theverge.com/2018/6/28/17509720/ca...   \n",
       "18                                                NaN   \n",
       "19  https://info.publicintelligence.net/US-NSAs/US...   \n",
       "69                                                NaN   \n",
       "70  http://www.adalet.gov.tr/Tasarilar/kisisel_ver...   \n",
       "\n",
       "                       References_4  \n",
       "17  https://www.caprivacy.org/facts  \n",
       "18                              NaN  \n",
       "19                              NaN  \n",
       "69                              NaN  \n",
       "70                              NaN  "
      ]
     },
     "execution_count": 11,
     "metadata": {},
     "output_type": "execute_result"
    }
   ],
   "source": [
    "df_type_dataFlow.head()"
   ]
  },
  {
   "cell_type": "code",
   "execution_count": null,
   "metadata": {},
   "outputs": [],
   "source": []
  },
  {
   "cell_type": "markdown",
   "metadata": {},
   "source": [
    "#### Total number of countries with legislation regarding \"Restrictions on cross border data flows\" in 2019"
   ]
  },
  {
   "cell_type": "code",
   "execution_count": 12,
   "metadata": {},
   "outputs": [
    {
     "data": {
      "text/plain": [
       "46"
      ]
     },
     "execution_count": 12,
     "metadata": {},
     "output_type": "execute_result"
    }
   ],
   "source": [
    "# Total number of countries represented in this dataset\n",
    "len(df_type_dataFlow.Country.unique())"
   ]
  },
  {
   "cell_type": "code",
   "execution_count": 13,
   "metadata": {
    "scrolled": true
   },
   "outputs": [
    {
     "data": {
      "text/plain": [
       "Horizontal                                                                                                                        52\n",
       "Public sector                                                                                                                      7\n",
       "Financial sector                                                                                                                   7\n",
       "Telecommunication sector                                                                                                           3\n",
       "Health sector                                                                                                                      3\n",
       "\"Electronic systems operators for public service\"                                                                                  3\n",
       "Maps services                                                                                                                      2\n",
       "Cloud services, public sector data                                                                                                 2\n",
       "Gambling sector                                                                                                                    2\n",
       "Electronic communications sector                                                                                                   1\n",
       "Taxi sector                                                                                                                        1\n",
       "Gambing sector                                                                                                                     1\n",
       "Dropbox, Google Apps, Microsoft's Office 365 and other cloud services                                                              1\n",
       "E-money institutions and payment services providers                                                                                1\n",
       "Mainland China                                                                                                                     1\n",
       "Telecommunication services and cloud services                                                                                      1\n",
       "Financial services                                                                                                                 1\n",
       "Onine taxi companies                                                                                                               1\n",
       "\"Organizers of information distribution in the Internet\"                                                                           1\n",
       "Internet Services                                                                                                                  1\n",
       "Financial Sector                                                                                                                   1\n",
       "Public services data                                                                                                               1\n",
       "ISPs providing public Wi-Fi                                                                                                        1\n",
       "Public procurement of cloud-computing services                                                                                     1\n",
       "Systems critical to national security                                                                                              1\n",
       "ICT companies                                                                                                                      1\n",
       "Online social networks, general information websites, mobile telecoms network based content services and online games services     1\n",
       "Telecommunication sector, ISPs and message exchange services                                                                       1\n",
       "Advertising services                                                                                                               1\n",
       "International payment systems                                                                                                      1\n",
       "Foreign \"telecom services\" and \"internet services\"                                                                                 1\n",
       "Cloud services                                                                                                                     1\n",
       "Cloud computing                                                                                                                    1\n",
       "Payment firms                                                                                                                      1\n",
       "\"Online service providers\"                                                                                                         1\n",
       "Name: Coverage, dtype: int64"
      ]
     },
     "execution_count": 13,
     "metadata": {},
     "output_type": "execute_result"
    }
   ],
   "source": [
    "# Sectors the data transfer laws affect\n",
    "df_type_dataFlow.Coverage.value_counts()"
   ]
  },
  {
   "cell_type": "code",
   "execution_count": 14,
   "metadata": {
    "scrolled": true
   },
   "outputs": [
    {
     "data": {
      "text/plain": [
       "CHINA             10\n",
       "INDIA              6\n",
       "RUSSIA             6\n",
       "KOREA              5\n",
       "GERMANY            5\n",
       "CANADA             5\n",
       "INDONESIA          5\n",
       "VIETNAM            4\n",
       "TURKEY             4\n",
       "TAIWAN             3\n",
       "BRAZIL             3\n",
       "UNITED STATES      3\n",
       "DENMARK            3\n",
       "SWEDEN             3\n",
       "BELGIUM            3\n",
       "UNITED KINGDOM     2\n",
       "NEW ZEALAND        2\n",
       "NIGERIA            2\n",
       "ROMANIA            2\n",
       "ARGENTINA          2\n",
       "COLOMBIA           2\n",
       "JAPAN              2\n",
       "AUSTRALIA          2\n",
       "SINGAPORE          2\n",
       "SLOVENIA           1\n",
       "FINLAND            1\n",
       "LUXEMBOURG         1\n",
       "PERU               1\n",
       "POLAND             1\n",
       "THAILAND           1\n",
       "CHILE              1\n",
       "PHILIPPINES        1\n",
       "MEXICO             1\n",
       "EUROPEAN UNION     1\n",
       "SPAIN              1\n",
       "ISRAEL             1\n",
       "BRUNEI             1\n",
       "SOUTH AFRICA       1\n",
       "NETHERLANDS        1\n",
       "MALAYSIA           1\n",
       "BULGARIA           1\n",
       "PORTUGAL           1\n",
       "GREECE             1\n",
       "PAKISTAN           1\n",
       "FRANCE             1\n",
       "ITALY              1\n",
       "Name: Country, dtype: int64"
      ]
     },
     "execution_count": 14,
     "metadata": {},
     "output_type": "execute_result"
    }
   ],
   "source": [
    "# Counrties and total number Restrictions on cross-border data flows laws\n",
    "df_type_dataFlow.Country.value_counts()"
   ]
  },
  {
   "cell_type": "code",
   "execution_count": null,
   "metadata": {},
   "outputs": [],
   "source": []
  },
  {
   "cell_type": "code",
   "execution_count": 15,
   "metadata": {
    "scrolled": true
   },
   "outputs": [
    {
     "data": {
      "text/html": [
       "<div>\n",
       "<style scoped>\n",
       "    .dataframe tbody tr th:only-of-type {\n",
       "        vertical-align: middle;\n",
       "    }\n",
       "\n",
       "    .dataframe tbody tr th {\n",
       "        vertical-align: top;\n",
       "    }\n",
       "\n",
       "    .dataframe thead th {\n",
       "        text-align: right;\n",
       "    }\n",
       "</style>\n",
       "<table border=\"1\" class=\"dataframe\">\n",
       "  <thead>\n",
       "    <tr style=\"text-align: right;\">\n",
       "      <th></th>\n",
       "      <th>Data_Localization</th>\n",
       "    </tr>\n",
       "    <tr>\n",
       "      <th>Country</th>\n",
       "      <th></th>\n",
       "    </tr>\n",
       "  </thead>\n",
       "  <tbody>\n",
       "    <tr>\n",
       "      <th>ARGENTINA</th>\n",
       "      <td>0</td>\n",
       "    </tr>\n",
       "    <tr>\n",
       "      <th>AUSTRALIA</th>\n",
       "      <td>1</td>\n",
       "    </tr>\n",
       "    <tr>\n",
       "      <th>BELGIUM</th>\n",
       "      <td>0</td>\n",
       "    </tr>\n",
       "    <tr>\n",
       "      <th>BRAZIL</th>\n",
       "      <td>0</td>\n",
       "    </tr>\n",
       "    <tr>\n",
       "      <th>BRUNEI</th>\n",
       "      <td>1</td>\n",
       "    </tr>\n",
       "    <tr>\n",
       "      <th>BULGARIA</th>\n",
       "      <td>0</td>\n",
       "    </tr>\n",
       "    <tr>\n",
       "      <th>CANADA</th>\n",
       "      <td>2</td>\n",
       "    </tr>\n",
       "    <tr>\n",
       "      <th>CHILE</th>\n",
       "      <td>0</td>\n",
       "    </tr>\n",
       "    <tr>\n",
       "      <th>CHINA</th>\n",
       "      <td>7</td>\n",
       "    </tr>\n",
       "    <tr>\n",
       "      <th>COLOMBIA</th>\n",
       "      <td>0</td>\n",
       "    </tr>\n",
       "    <tr>\n",
       "      <th>DENMARK</th>\n",
       "      <td>0</td>\n",
       "    </tr>\n",
       "    <tr>\n",
       "      <th>EUROPEAN UNION</th>\n",
       "      <td>0</td>\n",
       "    </tr>\n",
       "    <tr>\n",
       "      <th>FINLAND</th>\n",
       "      <td>0</td>\n",
       "    </tr>\n",
       "    <tr>\n",
       "      <th>FRANCE</th>\n",
       "      <td>0</td>\n",
       "    </tr>\n",
       "    <tr>\n",
       "      <th>GERMANY</th>\n",
       "      <td>0</td>\n",
       "    </tr>\n",
       "    <tr>\n",
       "      <th>GREECE</th>\n",
       "      <td>0</td>\n",
       "    </tr>\n",
       "    <tr>\n",
       "      <th>INDIA</th>\n",
       "      <td>4</td>\n",
       "    </tr>\n",
       "    <tr>\n",
       "      <th>INDONESIA</th>\n",
       "      <td>2</td>\n",
       "    </tr>\n",
       "    <tr>\n",
       "      <th>ISRAEL</th>\n",
       "      <td>0</td>\n",
       "    </tr>\n",
       "    <tr>\n",
       "      <th>ITALY</th>\n",
       "      <td>0</td>\n",
       "    </tr>\n",
       "    <tr>\n",
       "      <th>JAPAN</th>\n",
       "      <td>1</td>\n",
       "    </tr>\n",
       "    <tr>\n",
       "      <th>KOREA</th>\n",
       "      <td>2</td>\n",
       "    </tr>\n",
       "    <tr>\n",
       "      <th>LUXEMBOURG</th>\n",
       "      <td>0</td>\n",
       "    </tr>\n",
       "    <tr>\n",
       "      <th>MALAYSIA</th>\n",
       "      <td>0</td>\n",
       "    </tr>\n",
       "    <tr>\n",
       "      <th>MEXICO</th>\n",
       "      <td>0</td>\n",
       "    </tr>\n",
       "    <tr>\n",
       "      <th>NETHERLANDS</th>\n",
       "      <td>0</td>\n",
       "    </tr>\n",
       "    <tr>\n",
       "      <th>NEW ZEALAND</th>\n",
       "      <td>0</td>\n",
       "    </tr>\n",
       "    <tr>\n",
       "      <th>NIGERIA</th>\n",
       "      <td>0</td>\n",
       "    </tr>\n",
       "    <tr>\n",
       "      <th>PAKISTAN</th>\n",
       "      <td>0</td>\n",
       "    </tr>\n",
       "    <tr>\n",
       "      <th>PERU</th>\n",
       "      <td>0</td>\n",
       "    </tr>\n",
       "    <tr>\n",
       "      <th>PHILIPPINES</th>\n",
       "      <td>0</td>\n",
       "    </tr>\n",
       "    <tr>\n",
       "      <th>POLAND</th>\n",
       "      <td>0</td>\n",
       "    </tr>\n",
       "    <tr>\n",
       "      <th>PORTUGAL</th>\n",
       "      <td>0</td>\n",
       "    </tr>\n",
       "    <tr>\n",
       "      <th>ROMANIA</th>\n",
       "      <td>0</td>\n",
       "    </tr>\n",
       "    <tr>\n",
       "      <th>RUSSIA</th>\n",
       "      <td>4</td>\n",
       "    </tr>\n",
       "    <tr>\n",
       "      <th>SINGAPORE</th>\n",
       "      <td>0</td>\n",
       "    </tr>\n",
       "    <tr>\n",
       "      <th>SLOVENIA</th>\n",
       "      <td>0</td>\n",
       "    </tr>\n",
       "    <tr>\n",
       "      <th>SOUTH AFRICA</th>\n",
       "      <td>0</td>\n",
       "    </tr>\n",
       "    <tr>\n",
       "      <th>SPAIN</th>\n",
       "      <td>0</td>\n",
       "    </tr>\n",
       "    <tr>\n",
       "      <th>SWEDEN</th>\n",
       "      <td>0</td>\n",
       "    </tr>\n",
       "    <tr>\n",
       "      <th>TAIWAN</th>\n",
       "      <td>0</td>\n",
       "    </tr>\n",
       "    <tr>\n",
       "      <th>THAILAND</th>\n",
       "      <td>0</td>\n",
       "    </tr>\n",
       "    <tr>\n",
       "      <th>TURKEY</th>\n",
       "      <td>1</td>\n",
       "    </tr>\n",
       "    <tr>\n",
       "      <th>UNITED KINGDOM</th>\n",
       "      <td>0</td>\n",
       "    </tr>\n",
       "    <tr>\n",
       "      <th>UNITED STATES</th>\n",
       "      <td>0</td>\n",
       "    </tr>\n",
       "    <tr>\n",
       "      <th>VIETNAM</th>\n",
       "      <td>3</td>\n",
       "    </tr>\n",
       "  </tbody>\n",
       "</table>\n",
       "</div>"
      ],
      "text/plain": [
       "                Data_Localization\n",
       "Country                          \n",
       "ARGENTINA                       0\n",
       "AUSTRALIA                       1\n",
       "BELGIUM                         0\n",
       "BRAZIL                          0\n",
       "BRUNEI                          1\n",
       "BULGARIA                        0\n",
       "CANADA                          2\n",
       "CHILE                           0\n",
       "CHINA                           7\n",
       "COLOMBIA                        0\n",
       "DENMARK                         0\n",
       "EUROPEAN UNION                  0\n",
       "FINLAND                         0\n",
       "FRANCE                          0\n",
       "GERMANY                         0\n",
       "GREECE                          0\n",
       "INDIA                           4\n",
       "INDONESIA                       2\n",
       "ISRAEL                          0\n",
       "ITALY                           0\n",
       "JAPAN                           1\n",
       "KOREA                           2\n",
       "LUXEMBOURG                      0\n",
       "MALAYSIA                        0\n",
       "MEXICO                          0\n",
       "NETHERLANDS                     0\n",
       "NEW ZEALAND                     0\n",
       "NIGERIA                         0\n",
       "PAKISTAN                        0\n",
       "PERU                            0\n",
       "PHILIPPINES                     0\n",
       "POLAND                          0\n",
       "PORTUGAL                        0\n",
       "ROMANIA                         0\n",
       "RUSSIA                          4\n",
       "SINGAPORE                       0\n",
       "SLOVENIA                        0\n",
       "SOUTH AFRICA                    0\n",
       "SPAIN                           0\n",
       "SWEDEN                          0\n",
       "TAIWAN                          0\n",
       "THAILAND                        0\n",
       "TURKEY                          1\n",
       "UNITED KINGDOM                  0\n",
       "UNITED STATES                   0\n",
       "VIETNAM                         3"
      ]
     },
     "execution_count": 15,
     "metadata": {},
     "output_type": "execute_result"
    }
   ],
   "source": [
    "# Countries and number of data localization specific laws\n",
    "df_type_dataFlow.groupby('Country').agg({'Data_Localization':'count'})"
   ]
  },
  {
   "cell_type": "code",
   "execution_count": null,
   "metadata": {},
   "outputs": [],
   "source": []
  },
  {
   "cell_type": "code",
   "execution_count": null,
   "metadata": {},
   "outputs": [],
   "source": []
  },
  {
   "cell_type": "markdown",
   "metadata": {},
   "source": [
    "## EDA in pre Snowden"
   ]
  },
  {
   "cell_type": "markdown",
   "metadata": {},
   "source": [
    "Total number of countries with legislation regarding \"Restrictions on cross border data flows\" pre Snowden (2013)"
   ]
  },
  {
   "cell_type": "code",
   "execution_count": 16,
   "metadata": {},
   "outputs": [],
   "source": [
    "df_type_dataFlow_Snowden = df_type_dataFlow[df_type_dataFlow.Time < 2013]"
   ]
  },
  {
   "cell_type": "code",
   "execution_count": 17,
   "metadata": {},
   "outputs": [
    {
     "data": {
      "text/plain": [
       "33"
      ]
     },
     "execution_count": 17,
     "metadata": {},
     "output_type": "execute_result"
    }
   ],
   "source": [
    "len(df_type_dataFlow_Snowden.Country.unique())"
   ]
  },
  {
   "cell_type": "code",
   "execution_count": 18,
   "metadata": {},
   "outputs": [
    {
     "data": {
      "text/plain": [
       "Horizontal                                                               28\n",
       "Public sector                                                             5\n",
       "Financial sector                                                          4\n",
       "\"Electronic systems operators for public service\"                         2\n",
       "Telecommunication sector                                                  2\n",
       "Electronic communications sector                                          1\n",
       "Health sector                                                             1\n",
       "Mainland China                                                            1\n",
       "Telecommunication services and cloud services                             1\n",
       "Dropbox, Google Apps, Microsoft's Office 365 and other cloud services     1\n",
       "Advertising services                                                      1\n",
       "\"Online service providers\"                                                1\n",
       "Gambing sector                                                            1\n",
       "Gambling sector                                                           1\n",
       "Name: Coverage, dtype: int64"
      ]
     },
     "execution_count": 18,
     "metadata": {},
     "output_type": "execute_result"
    }
   ],
   "source": [
    "df_type_dataFlow_Snowden.Coverage.value_counts()"
   ]
  },
  {
   "cell_type": "code",
   "execution_count": 19,
   "metadata": {
    "scrolled": true
   },
   "outputs": [
    {
     "data": {
      "text/plain": [
       "CANADA            5\n",
       "CHINA             4\n",
       "INDONESIA         3\n",
       "DENMARK           3\n",
       "BELGIUM           3\n",
       "INDIA             2\n",
       "AUSTRALIA         2\n",
       "NEW ZEALAND       2\n",
       "TAIWAN            2\n",
       "PERU              1\n",
       "TURKEY            1\n",
       "GERMANY           1\n",
       "FINLAND           1\n",
       "PAKISTAN          1\n",
       "UNITED STATES     1\n",
       "NIGERIA           1\n",
       "ROMANIA           1\n",
       "LUXEMBOURG        1\n",
       "COLOMBIA          1\n",
       "VIETNAM           1\n",
       "POLAND            1\n",
       "SLOVENIA          1\n",
       "MEXICO            1\n",
       "RUSSIA            1\n",
       "SPAIN             1\n",
       "KOREA             1\n",
       "NETHERLANDS       1\n",
       "UNITED KINGDOM    1\n",
       "SWEDEN            1\n",
       "PORTUGAL          1\n",
       "GREECE            1\n",
       "BULGARIA          1\n",
       "ITALY             1\n",
       "Name: Country, dtype: int64"
      ]
     },
     "execution_count": 19,
     "metadata": {},
     "output_type": "execute_result"
    }
   ],
   "source": [
    "df_type_dataFlow_Snowden.Country.value_counts()"
   ]
  },
  {
   "cell_type": "code",
   "execution_count": 20,
   "metadata": {},
   "outputs": [
    {
     "data": {
      "text/plain": [
       "50"
      ]
     },
     "execution_count": 20,
     "metadata": {},
     "output_type": "execute_result"
    }
   ],
   "source": [
    "# The number of data specific restriction laws\n",
    "\n",
    "pre_Snowden_total_data_laws = len(df_type_dataFlow_Snowden.Data_Localization)\n",
    "pre_Snowden_total_data_laws"
   ]
  },
  {
   "cell_type": "code",
   "execution_count": 21,
   "metadata": {},
   "outputs": [
    {
     "data": {
      "text/plain": [
       "7"
      ]
     },
     "execution_count": 21,
     "metadata": {},
     "output_type": "execute_result"
    }
   ],
   "source": [
    "# The number of data localization laws\n",
    "pre_Snowden_total_data_localization_laws = df_type_dataFlow_Snowden.Data_Localization.value_counts()[0]\n",
    "pre_Snowden_total_data_localization_laws"
   ]
  },
  {
   "cell_type": "code",
   "execution_count": null,
   "metadata": {},
   "outputs": [],
   "source": []
  },
  {
   "cell_type": "code",
   "execution_count": null,
   "metadata": {},
   "outputs": [],
   "source": []
  },
  {
   "cell_type": "markdown",
   "metadata": {},
   "source": [
    "## EDA in post Snowden"
   ]
  },
  {
   "cell_type": "code",
   "execution_count": 22,
   "metadata": {},
   "outputs": [],
   "source": [
    "df_type_dataFlow_post_Snowden = df_type_dataFlow[df_type_dataFlow.Time >= 2013]"
   ]
  },
  {
   "cell_type": "code",
   "execution_count": 23,
   "metadata": {},
   "outputs": [
    {
     "data": {
      "text/plain": [
       "27"
      ]
     },
     "execution_count": 23,
     "metadata": {},
     "output_type": "execute_result"
    }
   ],
   "source": [
    "len(df_type_dataFlow_post_Snowden.Country.unique())"
   ]
  },
  {
   "cell_type": "code",
   "execution_count": 24,
   "metadata": {
    "scrolled": true
   },
   "outputs": [
    {
     "data": {
      "text/plain": [
       "Horizontal                                                                                                                        23\n",
       "Health sector                                                                                                                      2\n",
       "Cloud services, public sector data                                                                                                 2\n",
       "Maps services                                                                                                                      2\n",
       "Financial sector                                                                                                                   2\n",
       "Foreign \"telecom services\" and \"internet services\"                                                                                 1\n",
       "Public procurement of cloud-computing services                                                                                     1\n",
       "\"Organizers of information distribution in the Internet\"                                                                           1\n",
       "Onine taxi companies                                                                                                               1\n",
       "Financial services                                                                                                                 1\n",
       "E-money institutions and payment services providers                                                                                1\n",
       "Cloud computing                                                                                                                    1\n",
       "Taxi sector                                                                                                                        1\n",
       "Financial Sector                                                                                                                   1\n",
       "ISPs providing public Wi-Fi                                                                                                        1\n",
       "International payment systems                                                                                                      1\n",
       "Public sector                                                                                                                      1\n",
       "\"Electronic systems operators for public service\"                                                                                  1\n",
       "Public services data                                                                                                               1\n",
       "Payment firms                                                                                                                      1\n",
       "Systems critical to national security                                                                                              1\n",
       "ICT companies                                                                                                                      1\n",
       "Online social networks, general information websites, mobile telecoms network based content services and online games services     1\n",
       "Gambling sector                                                                                                                    1\n",
       "Telecommunication sector                                                                                                           1\n",
       "Cloud services                                                                                                                     1\n",
       "Telecommunication sector, ISPs and message exchange services                                                                       1\n",
       "Internet Services                                                                                                                  1\n",
       "Name: Coverage, dtype: int64"
      ]
     },
     "execution_count": 24,
     "metadata": {},
     "output_type": "execute_result"
    }
   ],
   "source": [
    "df_type_dataFlow_post_Snowden.Coverage.value_counts()"
   ]
  },
  {
   "cell_type": "code",
   "execution_count": 25,
   "metadata": {
    "scrolled": true
   },
   "outputs": [
    {
     "data": {
      "text/plain": [
       "CHINA             6\n",
       "RUSSIA            5\n",
       "INDIA             4\n",
       "KOREA             4\n",
       "GERMANY           4\n",
       "BRAZIL            3\n",
       "VIETNAM           3\n",
       "ARGENTINA         2\n",
       "JAPAN             2\n",
       "TURKEY            2\n",
       "INDONESIA         2\n",
       "SINGAPORE         2\n",
       "THAILAND          1\n",
       "MALAYSIA          1\n",
       "ISRAEL            1\n",
       "EUROPEAN UNION    1\n",
       "UNITED KINGDOM    1\n",
       "SOUTH AFRICA      1\n",
       "COLOMBIA          1\n",
       "ROMANIA           1\n",
       "NIGERIA           1\n",
       "UNITED STATES     1\n",
       "TAIWAN            1\n",
       "CHILE             1\n",
       "PHILIPPINES       1\n",
       "FRANCE            1\n",
       "BRUNEI            1\n",
       "Name: Country, dtype: int64"
      ]
     },
     "execution_count": 25,
     "metadata": {},
     "output_type": "execute_result"
    }
   ],
   "source": [
    "df_type_dataFlow_post_Snowden.Country.value_counts()"
   ]
  },
  {
   "cell_type": "code",
   "execution_count": 26,
   "metadata": {},
   "outputs": [
    {
     "name": "stdout",
     "output_type": "stream",
     "text": [
      "54\n"
     ]
    }
   ],
   "source": [
    "# The number of data specific restriction laws\n",
    "\n",
    "post_Snowden_total_data_laws = len(df_type_dataFlow_post_Snowden.Data_Localization )\n",
    "print(post_Snowden_total_data_laws)"
   ]
  },
  {
   "cell_type": "code",
   "execution_count": 27,
   "metadata": {},
   "outputs": [
    {
     "data": {
      "text/plain": [
       "21"
      ]
     },
     "execution_count": 27,
     "metadata": {},
     "output_type": "execute_result"
    }
   ],
   "source": [
    "# The number of data localization laws\n",
    "\n",
    "post_Snowden_total_data_localization_laws = df_type_dataFlow_post_Snowden.Data_Localization.value_counts()[0]\n",
    "post_Snowden_total_data_localization_laws"
   ]
  },
  {
   "cell_type": "markdown",
   "metadata": {},
   "source": [
    "________"
   ]
  },
  {
   "cell_type": "markdown",
   "metadata": {},
   "source": [
    "### Insight 1: Looking at what percent data localization specific laws were of all data related laws for pre and post Snowden"
   ]
  },
  {
   "cell_type": "code",
   "execution_count": 28,
   "metadata": {},
   "outputs": [
    {
     "data": {
      "text/plain": [
       "0.14"
      ]
     },
     "execution_count": 28,
     "metadata": {},
     "output_type": "execute_result"
    }
   ],
   "source": [
    "pre_Snowden_data_law_percent =  (pre_Snowden_total_data_localization_laws/ pre_Snowden_total_data_laws) \n",
    "pre_Snowden_data_law_percent"
   ]
  },
  {
   "cell_type": "code",
   "execution_count": 29,
   "metadata": {},
   "outputs": [
    {
     "data": {
      "text/plain": [
       "0.3888888888888889"
      ]
     },
     "execution_count": 29,
     "metadata": {},
     "output_type": "execute_result"
    }
   ],
   "source": [
    "post_Snowden_data_law_percent =  (post_Snowden_total_data_localization_laws/ post_Snowden_total_data_laws) \n",
    "post_Snowden_data_law_percent"
   ]
  },
  {
   "cell_type": "code",
   "execution_count": 30,
   "metadata": {},
   "outputs": [
    {
     "data": {
      "text/plain": [
       "177.77777777777774"
      ]
     },
     "execution_count": 30,
     "metadata": {},
     "output_type": "execute_result"
    }
   ],
   "source": [
    "percent_Change = ((post_Snowden_data_law_percent - pre_Snowden_data_law_percent)/pre_Snowden_data_law_percent) * 100\n",
    "percent_Change"
   ]
  },
  {
   "cell_type": "markdown",
   "metadata": {},
   "source": [
    "There is a 178% increase in percentage of data localization specific laws from pre snowden to post snowden era."
   ]
  },
  {
   "cell_type": "code",
   "execution_count": null,
   "metadata": {},
   "outputs": [],
   "source": []
  },
  {
   "cell_type": "markdown",
   "metadata": {},
   "source": [
    "### Insight 2: Time trend"
   ]
  },
  {
   "cell_type": "code",
   "execution_count": 32,
   "metadata": {},
   "outputs": [],
   "source": [
    "time = df_type_dataFlow.Time.value_counts().rename_axis('Year').reset_index(name='Count')\n",
    "time.drop(time.index[28], inplace =True)\n",
    "time.Year = time.Year.astype(int)\n",
    "full_timeList = list(range(1972, 2020))\n",
    "\n",
    "for i in full_timeList:\n",
    "    if i in list(time['Year']):\n",
    "        continue\n",
    "    else:\n",
    "        time = time.append({'Year': i, 'Count':0}, ignore_index= True)\n",
    "        \n",
    "        \n",
    "time.sort_values(by='Year', inplace=True)\n",
    "time.reset_index(inplace = True)\n",
    "time.drop('index', axis=1, inplace = True)\n",
    "time.reset_index(inplace = True)\n",
    "time['index'] += 1"
   ]
  },
  {
   "cell_type": "code",
   "execution_count": 34,
   "metadata": {},
   "outputs": [
    {
     "name": "stdout",
     "output_type": "stream",
     "text": [
      "1.5773541133188187\n",
      "0.7321852835319371\n"
     ]
    },
    {
     "data": {
      "image/png": "[encoded data removed]",
      "text/plain": [
       "<Figure size 432x288 with 1 Axes>"
      ]
     },
     "metadata": {
      "needs_background": "light"
     },
     "output_type": "display_data"
    }
   ],
   "source": [
    "x = time[\"index\"][1:, np.newaxis]\n",
    "Y = time[\"Count\"][1:, np.newaxis]\n",
    "\n",
    "polynomial_features= PolynomialFeatures(degree=2)\n",
    "x_poly = polynomial_features.fit_transform(x)\n",
    "\n",
    "model = LinearRegression()\n",
    "model.fit(x_poly, Y)\n",
    "y_poly_pred = model.predict(x_poly)\n",
    "\n",
    "rmse = np.sqrt(mean_squared_error(Y,y_poly_pred))\n",
    "r2 = r2_score(Y,y_poly_pred)\n",
    "print(rmse)\n",
    "print(r2)\n",
    "\n",
    "plt.scatter(x, Y, s=10)\n",
    "# sort the values of x before line plot\n",
    "sort_axis = operator.itemgetter(0)\n",
    "sorted_zip = sorted(zip(x,y_poly_pred), key=sort_axis)\n",
    "x, y_poly_pred = zip(*sorted_zip)\n",
    "plt.plot(x, y_poly_pred, color='m')\n",
    "plt.show()"
   ]
  },
  {
   "cell_type": "code",
   "execution_count": null,
   "metadata": {},
   "outputs": [],
   "source": []
  },
  {
   "cell_type": "code",
   "execution_count": null,
   "metadata": {},
   "outputs": [],
   "source": []
  },
  {
   "cell_type": "markdown",
   "metadata": {},
   "source": [
    "### Insight 3: Number of Countries with explicit data localization/storage requirements in their data legislation"
   ]
  },
  {
   "cell_type": "code",
   "execution_count": 35,
   "metadata": {},
   "outputs": [
    {
     "name": "stdout",
     "output_type": "stream",
     "text": [
      "Number of countries with data localization/storage requirements in their laws:  11\n"
     ]
    }
   ],
   "source": [
    "number_countries_w_DL = len(df_type_dataFlow[df_type_dataFlow['Data_Localization'] == 'Yes']['Country'].unique())\n",
    "print('Number of countries with data localization/storage requirements in their laws: ', number_countries_w_DL)"
   ]
  },
  {
   "cell_type": "code",
   "execution_count": 90,
   "metadata": {},
   "outputs": [
    {
     "name": "stdout",
     "output_type": "stream",
     "text": [
      "Percentage of coutnries with DL/Storage laws:   5 %\n"
     ]
    }
   ],
   "source": [
    "print('Percentage of coutnries with DL/Storage laws:  ', int((number_countries_w_DL/195) *100), '%')"
   ]
  },
  {
   "cell_type": "code",
   "execution_count": null,
   "metadata": {},
   "outputs": [],
   "source": []
  },
  {
   "cell_type": "markdown",
   "metadata": {},
   "source": [
    "### Insight 4: Data Localization/Soveriegnty law frequency per year"
   ]
  },
  {
   "cell_type": "code",
   "execution_count": 93,
   "metadata": {},
   "outputs": [
    {
     "name": "stderr",
     "output_type": "stream",
     "text": [
      "C:\\Users\\hamsh\\Anaconda3\\lib\\site-packages\\ipykernel_launcher.py:2: SettingWithCopyWarning: \n",
      "A value is trying to be set on a copy of a slice from a DataFrame.\n",
      "Try using .loc[row_indexer,col_indexer] = value instead\n",
      "\n",
      "See the caveats in the documentation: http://pandas.pydata.org/pandas-docs/stable/indexing.html#indexing-view-versus-copy\n",
      "  \n"
     ]
    }
   ],
   "source": [
    "df_DL_Yes = df_type_dataFlow[df_type_dataFlow['Data_Localization'] == 'Yes']\n",
    "df_DL_Yes['Time']= df_DL_Yes['Time'].astype(int)"
   ]
  },
  {
   "cell_type": "code",
   "execution_count": 104,
   "metadata": {},
   "outputs": [
    {
     "data": {
      "text/plain": [
       "Text(0.5, 1.0, 'Data Localization Laws passed per Year')"
      ]
     },
     "execution_count": 104,
     "metadata": {},
     "output_type": "execute_result"
    },
    {
     "data": {
      "image/png": "[encoded data removed]",
      "text/plain": [
       "<Figure size 432x288 with 1 Axes>"
      ]
     },
     "metadata": {
      "needs_background": "light"
     },
     "output_type": "display_data"
    }
   ],
   "source": [
    "df_DL_Yes_count = df_DL_Yes.groupby('Time').count()['Data_Localization']\n",
    "df_DL_Yes_count.plot('bar')\n",
    "plt.ylabel('Count')\n",
    "plt.title('Data Localization Laws passed per Year')"
   ]
  },
  {
   "cell_type": "code",
   "execution_count": null,
   "metadata": {},
   "outputs": [],
   "source": []
  },
  {
   "cell_type": "code",
   "execution_count": null,
   "metadata": {},
   "outputs": [],
   "source": []
  },
  {
   "cell_type": "code",
   "execution_count": null,
   "metadata": {},
   "outputs": [],
   "source": []
  },
  {
   "cell_type": "markdown",
   "metadata": {},
   "source": [
    "### What I did this week:\n",
    "- Added a few more insights\n",
    "- Looked into data for next steps section.\n",
    "\n",
    "### Next Steps:\n",
    "- Look at sector specific trends.\n",
    "- Rank countries by their data localization requirements. If the law is horizontal, sector specific, provides conditions.\n",
    "- Explore for data on pending legislation regarding data localization/soveriegnty "
   ]
  },
  {
   "cell_type": "code",
   "execution_count": null,
   "metadata": {},
   "outputs": [],
   "source": []
  },
  {
   "cell_type": "code",
   "execution_count": null,
   "metadata": {},
   "outputs": [],
   "source": []
  },
  {
   "cell_type": "code",
   "execution_count": null,
   "metadata": {},
   "outputs": [],
   "source": []
  },
  {
   "cell_type": "code",
   "execution_count": null,
   "metadata": {},
   "outputs": [],
   "source": []
  },
  {
   "cell_type": "code",
   "execution_count": null,
   "metadata": {},
   "outputs": [],
   "source": []
  },
  {
   "cell_type": "markdown",
   "metadata": {},
   "source": [
    "___"
   ]
  },
  {
   "cell_type": "markdown",
   "metadata": {},
   "source": [
    "## Test Code\n"
   ]
  },
  {
   "cell_type": "code",
   "execution_count": null,
   "metadata": {},
   "outputs": [],
   "source": []
  },
  {
   "cell_type": "code",
   "execution_count": 36,
   "metadata": {},
   "outputs": [
    {
     "data": {
      "text/html": [
       "<div>\n",
       "<style scoped>\n",
       "    .dataframe tbody tr th:only-of-type {\n",
       "        vertical-align: middle;\n",
       "    }\n",
       "\n",
       "    .dataframe tbody tr th {\n",
       "        vertical-align: top;\n",
       "    }\n",
       "\n",
       "    .dataframe thead th {\n",
       "        text-align: right;\n",
       "    }\n",
       "</style>\n",
       "<table border=\"1\" class=\"dataframe\">\n",
       "  <thead>\n",
       "    <tr style=\"text-align: right;\">\n",
       "      <th></th>\n",
       "      <th>index</th>\n",
       "      <th>Year</th>\n",
       "      <th>Count</th>\n",
       "    </tr>\n",
       "  </thead>\n",
       "  <tbody>\n",
       "    <tr>\n",
       "      <th>0</th>\n",
       "      <td>1</td>\n",
       "      <td>1972</td>\n",
       "      <td>1</td>\n",
       "    </tr>\n",
       "    <tr>\n",
       "      <th>1</th>\n",
       "      <td>2</td>\n",
       "      <td>1973</td>\n",
       "      <td>0</td>\n",
       "    </tr>\n",
       "    <tr>\n",
       "      <th>2</th>\n",
       "      <td>3</td>\n",
       "      <td>1974</td>\n",
       "      <td>0</td>\n",
       "    </tr>\n",
       "    <tr>\n",
       "      <th>3</th>\n",
       "      <td>4</td>\n",
       "      <td>1975</td>\n",
       "      <td>0</td>\n",
       "    </tr>\n",
       "    <tr>\n",
       "      <th>4</th>\n",
       "      <td>5</td>\n",
       "      <td>1976</td>\n",
       "      <td>0</td>\n",
       "    </tr>\n",
       "  </tbody>\n",
       "</table>\n",
       "</div>"
      ],
      "text/plain": [
       "   index  Year  Count\n",
       "0      1  1972      1\n",
       "1      2  1973      0\n",
       "2      3  1974      0\n",
       "3      4  1975      0\n",
       "4      5  1976      0"
      ]
     },
     "execution_count": 36,
     "metadata": {},
     "output_type": "execute_result"
    }
   ],
   "source": [
    "time.head()"
   ]
  },
  {
   "cell_type": "code",
   "execution_count": 37,
   "metadata": {},
   "outputs": [
    {
     "data": {
      "image/png": "[encoded data removed]",
      "text/plain": [
       "<Figure size 432x288 with 1 Axes>"
      ]
     },
     "metadata": {
      "needs_background": "light"
     },
     "output_type": "display_data"
    }
   ],
   "source": [
    "time_plot = time.plot.line(x = 'Year', y = 'Count')"
   ]
  },
  {
   "cell_type": "code",
   "execution_count": 38,
   "metadata": {},
   "outputs": [
    {
     "data": {
      "image/png": "[encoded data removed]",
      "text/plain": [
       "<Figure size 360x360 with 1 Axes>"
      ]
     },
     "metadata": {
      "needs_background": "light"
     },
     "output_type": "display_data"
    }
   ],
   "source": [
    "time_plot_v2 = sns.lmplot(x='Year',y='Count',data=time,fit_reg=True)"
   ]
  },
  {
   "cell_type": "code",
   "execution_count": null,
   "metadata": {},
   "outputs": [],
   "source": []
  },
  {
   "cell_type": "code",
   "execution_count": 39,
   "metadata": {
    "scrolled": true
   },
   "outputs": [
    {
     "name": "stdout",
     "output_type": "stream",
     "text": [
      "1.5615664267843348\n",
      "0.7327555400790073\n"
     ]
    },
    {
     "data": {
      "image/png": "[encoded data removed]",
      "text/plain": [
       "<Figure size 432x288 with 1 Axes>"
      ]
     },
     "metadata": {
      "needs_background": "light"
     },
     "output_type": "display_data"
    }
   ],
   "source": [
    "# transforming the data to include another axis\n",
    "x = X[:, np.newaxis]\n",
    "Y = y[:, np.newaxis]\n",
    "\n",
    "polynomial_features= PolynomialFeatures(degree=2)\n",
    "x_poly = polynomial_features.fit_transform(x)\n",
    "\n",
    "model = LinearRegression()\n",
    "model.fit(x_poly, Y)\n",
    "y_poly_pred = model.predict(x_poly)\n",
    "\n",
    "rmse = np.sqrt(mean_squared_error(Y,y_poly_pred))\n",
    "r2 = r2_score(Y,y_poly_pred)\n",
    "print(rmse)\n",
    "print(r2)\n",
    "\n",
    "plt.scatter(x, Y, s=10)\n",
    "# sort the values of x before line plot\n",
    "sort_axis = operator.itemgetter(0)\n",
    "sorted_zip = sorted(zip(x,y_poly_pred), key=sort_axis)\n",
    "x, y_poly_pred = zip(*sorted_zip)\n",
    "plt.plot(x, y_poly_pred, color='m')\n",
    "plt.show()"
   ]
  },
  {
   "cell_type": "code",
   "execution_count": 40,
   "metadata": {},
   "outputs": [
    {
     "data": {
      "text/html": [
       "<table class=\"simpletable\">\n",
       "<caption>OLS Regression Results</caption>\n",
       "<tr>\n",
       "  <th>Dep. Variable:</th>            <td>y</td>        <th>  R-squared:         </th> <td>   0.733</td>\n",
       "</tr>\n",
       "<tr>\n",
       "  <th>Model:</th>                   <td>OLS</td>       <th>  Adj. R-squared:    </th> <td>   0.727</td>\n",
       "</tr>\n",
       "<tr>\n",
       "  <th>Method:</th>             <td>Least Squares</td>  <th>  F-statistic:       </th> <td>   126.4</td>\n",
       "</tr>\n",
       "<tr>\n",
       "  <th>Date:</th>             <td>Sun, 04 Aug 2019</td> <th>  Prob (F-statistic):</th> <td>8.67e-15</td>\n",
       "</tr>\n",
       "<tr>\n",
       "  <th>Time:</th>                 <td>10:17:13</td>     <th>  Log-Likelihood:    </th> <td> -89.471</td>\n",
       "</tr>\n",
       "<tr>\n",
       "  <th>No. Observations:</th>      <td>    48</td>      <th>  AIC:               </th> <td>   182.9</td>\n",
       "</tr>\n",
       "<tr>\n",
       "  <th>Df Residuals:</th>          <td>    46</td>      <th>  BIC:               </th> <td>   186.7</td>\n",
       "</tr>\n",
       "<tr>\n",
       "  <th>Df Model:</th>              <td>     1</td>      <th>                     </th>     <td> </td>   \n",
       "</tr>\n",
       "<tr>\n",
       "  <th>Covariance Type:</th>      <td>nonrobust</td>    <th>                     </th>     <td> </td>   \n",
       "</tr>\n",
       "</table>\n",
       "<table class=\"simpletable\">\n",
       "<tr>\n",
       "      <td></td>         <th>coef</th>     <th>std err</th>      <th>t</th>      <th>P>|t|</th>  <th>[0.025</th>    <th>0.975]</th>  \n",
       "</tr>\n",
       "<tr>\n",
       "  <th>Intercept</th> <td> 1.388e-15</td> <td>    0.299</td> <td> 4.64e-15</td> <td> 1.000</td> <td>   -0.602</td> <td>    0.602</td>\n",
       "</tr>\n",
       "<tr>\n",
       "  <th>model(X)</th>  <td>    1.0000</td> <td>    0.089</td> <td>   11.241</td> <td> 0.000</td> <td>    0.821</td> <td>    1.179</td>\n",
       "</tr>\n",
       "</table>\n",
       "<table class=\"simpletable\">\n",
       "<tr>\n",
       "  <th>Omnibus:</th>       <td>27.629</td> <th>  Durbin-Watson:     </th> <td>   1.360</td>\n",
       "</tr>\n",
       "<tr>\n",
       "  <th>Prob(Omnibus):</th> <td> 0.000</td> <th>  Jarque-Bera (JB):  </th> <td>  80.009</td>\n",
       "</tr>\n",
       "<tr>\n",
       "  <th>Skew:</th>          <td>-1.420</td> <th>  Prob(JB):          </th> <td>4.23e-18</td>\n",
       "</tr>\n",
       "<tr>\n",
       "  <th>Kurtosis:</th>      <td> 8.652</td> <th>  Cond. No.          </th> <td>    4.53</td>\n",
       "</tr>\n",
       "</table><br/><br/>Warnings:<br/>[1] Standard Errors assume that the covariance matrix of the errors is correctly specified."
      ],
      "text/plain": [
       "<class 'statsmodels.iolib.summary.Summary'>\n",
       "\"\"\"\n",
       "                            OLS Regression Results                            \n",
       "==============================================================================\n",
       "Dep. Variable:                      y   R-squared:                       0.733\n",
       "Model:                            OLS   Adj. R-squared:                  0.727\n",
       "Method:                 Least Squares   F-statistic:                     126.4\n",
       "Date:                Sun, 04 Aug 2019   Prob (F-statistic):           8.67e-15\n",
       "Time:                        10:17:13   Log-Likelihood:                -89.471\n",
       "No. Observations:                  48   AIC:                             182.9\n",
       "Df Residuals:                      46   BIC:                             186.7\n",
       "Df Model:                           1                                         \n",
       "Covariance Type:            nonrobust                                         \n",
       "==============================================================================\n",
       "                 coef    std err          t      P>|t|      [0.025      0.975]\n",
       "------------------------------------------------------------------------------\n",
       "Intercept   1.388e-15      0.299   4.64e-15      1.000      -0.602       0.602\n",
       "model(X)       1.0000      0.089     11.241      0.000       0.821       1.179\n",
       "==============================================================================\n",
       "Omnibus:                       27.629   Durbin-Watson:                   1.360\n",
       "Prob(Omnibus):                  0.000   Jarque-Bera (JB):               80.009\n",
       "Skew:                          -1.420   Prob(JB):                     4.23e-18\n",
       "Kurtosis:                       8.652   Cond. No.                         4.53\n",
       "==============================================================================\n",
       "\n",
       "Warnings:\n",
       "[1] Standard Errors assume that the covariance matrix of the errors is correctly specified.\n",
       "\"\"\""
      ]
     },
     "execution_count": 40,
     "metadata": {},
     "output_type": "execute_result"
    }
   ],
   "source": [
    "degree = 3\n",
    "\n",
    "df_poly = pd.DataFrame(columns=['y', 'x'])\n",
    "df_poly['x'] = X\n",
    "df_poly['y'] = y\n",
    "\n",
    "weights = np.polyfit(X, y, degree)\n",
    "model = np.poly1d(weights)\n",
    "results = smf.ols(formula='y ~ model(X)', data=df_poly).fit()\n",
    "results.summary()"
   ]
  },
  {
   "cell_type": "code",
   "execution_count": null,
   "metadata": {},
   "outputs": [],
   "source": []
  },
  {
   "cell_type": "code",
   "execution_count": null,
   "metadata": {
    "scrolled": true
   },
   "outputs": [],
   "source": []
  },
  {
   "cell_type": "code",
   "execution_count": null,
   "metadata": {},
   "outputs": [],
   "source": []
  },
  {
   "cell_type": "code",
   "execution_count": null,
   "metadata": {},
   "outputs": [],
   "source": []
  }
 ],
 "metadata": {
  "kernelspec": {
   "display_name": "Python 3",
   "language": "python",
   "name": "python3"
  },
  "language_info": {
   "codemirror_mode": {
    "name": "ipython",
    "version": 3
   },
   "file_extension": ".py",
   "mimetype": "text/x-python",
   "name": "python",
   "nbconvert_exporter": "python",
   "pygments_lexer": "ipython3",
   "version": "3.7.3"
  }
 },
 "nbformat": 4,
 "nbformat_minor": 2
}

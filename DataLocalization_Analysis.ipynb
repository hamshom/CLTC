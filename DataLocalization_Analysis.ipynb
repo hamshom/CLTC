{
 "cells": [
  {
   "cell_type": "code",
   "execution_count": 168,
   "metadata": {},
   "outputs": [],
   "source": [
    "import pandas as pd\n",
    "import matplotlib.pyplot as plt\n",
    "import seaborn as sns\n",
    "import statsmodels.api as sm\n",
    "import numpy as np\n",
    "import operator\n",
    "\n",
    "from sklearn.linear_model import LinearRegression\n",
    "from sklearn.metrics import mean_squared_error, r2_score\n",
    "from sklearn.preprocessing import PolynomialFeatures\n",
    "import statsmodels.formula.api as smf"
   ]
  },
  {
   "cell_type": "code",
   "execution_count": 62,
   "metadata": {},
   "outputs": [],
   "source": [
    "df = pd.read_csv('regulations_data.csv')"
   ]
  },
  {
   "cell_type": "code",
   "execution_count": 64,
   "metadata": {},
   "outputs": [
    {
     "data": {
      "text/html": [
       "<div>\n",
       "<style scoped>\n",
       "    .dataframe tbody tr th:only-of-type {\n",
       "        vertical-align: middle;\n",
       "    }\n",
       "\n",
       "    .dataframe tbody tr th {\n",
       "        vertical-align: top;\n",
       "    }\n",
       "\n",
       "    .dataframe thead th {\n",
       "        text-align: right;\n",
       "    }\n",
       "</style>\n",
       "<table border=\"1\" class=\"dataframe\">\n",
       "  <thead>\n",
       "    <tr style=\"text-align: right;\">\n",
       "      <th></th>\n",
       "      <th>Country</th>\n",
       "      <th>Chapter</th>\n",
       "      <th>Subchapter</th>\n",
       "      <th>Type</th>\n",
       "      <th>Act/Practice</th>\n",
       "      <th>Coverage</th>\n",
       "      <th>Description</th>\n",
       "      <th>Time</th>\n",
       "      <th>Timeframe</th>\n",
       "      <th>References</th>\n",
       "      <th>References_2</th>\n",
       "      <th>References_3</th>\n",
       "      <th>References_4</th>\n",
       "    </tr>\n",
       "  </thead>\n",
       "  <tbody>\n",
       "    <tr>\n",
       "      <th>0</th>\n",
       "      <td>UNITED STATES</td>\n",
       "      <td>Online sales and transactions</td>\n",
       "      <td>Online sales</td>\n",
       "      <td>Trading restrictions</td>\n",
       "      <td>Restriction on online sales</td>\n",
       "      <td>E-retail</td>\n",
       "      <td>Three US States (Alabama, Oklahoma and Utah) p...</td>\n",
       "      <td>2016.0</td>\n",
       "      <td>Reported in 2016</td>\n",
       "      <td>http://www.ncsl.org/research/financial-service...</td>\n",
       "      <td>NaN</td>\n",
       "      <td>NaN</td>\n",
       "      <td>NaN</td>\n",
       "    </tr>\n",
       "    <tr>\n",
       "      <th>1</th>\n",
       "      <td>UNITED STATES</td>\n",
       "      <td>Online sales and transactions</td>\n",
       "      <td>Online sales</td>\n",
       "      <td>Trading restrictions</td>\n",
       "      <td>Restriction on online sales</td>\n",
       "      <td>E-retail</td>\n",
       "      <td>While it is possible to sell drugs online in t...</td>\n",
       "      <td>NaN</td>\n",
       "      <td>NaN</td>\n",
       "      <td>http://www.fda.gov/AboutFDA/Transparency/Basic...</td>\n",
       "      <td>http://patients.about.com/od/savemoneyondrugs/...</td>\n",
       "      <td>http://www.cnbc.com/2014/05/23/patients-cross-...</td>\n",
       "      <td>https://www.canadapost.ca/tools/pg/manual/PGcu...</td>\n",
       "    </tr>\n",
       "    <tr>\n",
       "      <th>2</th>\n",
       "      <td>UNITED STATES</td>\n",
       "      <td>Online sales and transactions</td>\n",
       "      <td>Online sales</td>\n",
       "      <td>Trading restrictions</td>\n",
       "      <td>Revised Code of Washington (RCW)</td>\n",
       "      <td>E-retail</td>\n",
       "      <td>Since July 2009, ordering most of tobacco prod...</td>\n",
       "      <td>2009.0</td>\n",
       "      <td>Since July 2009</td>\n",
       "      <td>http://www.atg.wa.gov/ban-internet-and-mail-or...</td>\n",
       "      <td>NaN</td>\n",
       "      <td>NaN</td>\n",
       "      <td>NaN</td>\n",
       "    </tr>\n",
       "    <tr>\n",
       "      <th>3</th>\n",
       "      <td>UNITED STATES</td>\n",
       "      <td>Online sales and transactions</td>\n",
       "      <td>Online sales</td>\n",
       "      <td>Trading restrictions</td>\n",
       "      <td>Wire Act (1961) \\n\\nIllegal Gambling Business ...</td>\n",
       "      <td>Online gambling</td>\n",
       "      <td>Overlapping Federal and State regulations proh...</td>\n",
       "      <td>1961.0</td>\n",
       "      <td>Since 1961</td>\n",
       "      <td>https://www.wto.org/english/tratop_e/dispu_e/c...</td>\n",
       "      <td>https://www.law.cornell.edu/uscode/text/18/1084</td>\n",
       "      <td>http://www.fbi.gov/news/stories/2007/june/gamb...</td>\n",
       "      <td>NaN</td>\n",
       "    </tr>\n",
       "    <tr>\n",
       "      <th>4</th>\n",
       "      <td>UNITED STATES</td>\n",
       "      <td>Online sales and transactions</td>\n",
       "      <td>Domain name (DNS) registration requirements</td>\n",
       "      <td>Trading restrictions</td>\n",
       "      <td>usTLD Nexus Requirements Policy</td>\n",
       "      <td>Horizontal</td>\n",
       "      <td>Foreign entities or organizations need a bona ...</td>\n",
       "      <td>NaN</td>\n",
       "      <td>NaN</td>\n",
       "      <td>http://www.neustar.us/the-ustld-nexus-requirem...</td>\n",
       "      <td>http://www.business-sweden.se/Export/Exportreg...</td>\n",
       "      <td>NaN</td>\n",
       "      <td>NaN</td>\n",
       "    </tr>\n",
       "  </tbody>\n",
       "</table>\n",
       "</div>"
      ],
      "text/plain": [
       "         Country                        Chapter  \\\n",
       "0  UNITED STATES  Online sales and transactions   \n",
       "1  UNITED STATES  Online sales and transactions   \n",
       "2  UNITED STATES  Online sales and transactions   \n",
       "3  UNITED STATES  Online sales and transactions   \n",
       "4  UNITED STATES  Online sales and transactions   \n",
       "\n",
       "                                    Subchapter                  Type  \\\n",
       "0                                 Online sales  Trading restrictions   \n",
       "1                                 Online sales  Trading restrictions   \n",
       "2                                 Online sales  Trading restrictions   \n",
       "3                                 Online sales  Trading restrictions   \n",
       "4  Domain name (DNS) registration requirements  Trading restrictions   \n",
       "\n",
       "                                        Act/Practice         Coverage  \\\n",
       "0                        Restriction on online sales         E-retail   \n",
       "1                        Restriction on online sales         E-retail   \n",
       "2                   Revised Code of Washington (RCW)         E-retail   \n",
       "3  Wire Act (1961) \\n\\nIllegal Gambling Business ...  Online gambling   \n",
       "4                    usTLD Nexus Requirements Policy       Horizontal   \n",
       "\n",
       "                                         Description    Time  \\\n",
       "0  Three US States (Alabama, Oklahoma and Utah) p...  2016.0   \n",
       "1  While it is possible to sell drugs online in t...     NaN   \n",
       "2  Since July 2009, ordering most of tobacco prod...  2009.0   \n",
       "3  Overlapping Federal and State regulations proh...  1961.0   \n",
       "4  Foreign entities or organizations need a bona ...     NaN   \n",
       "\n",
       "          Timeframe                                         References  \\\n",
       "0  Reported in 2016  http://www.ncsl.org/research/financial-service...   \n",
       "1               NaN  http://www.fda.gov/AboutFDA/Transparency/Basic...   \n",
       "2   Since July 2009  http://www.atg.wa.gov/ban-internet-and-mail-or...   \n",
       "3        Since 1961  https://www.wto.org/english/tratop_e/dispu_e/c...   \n",
       "4               NaN  http://www.neustar.us/the-ustld-nexus-requirem...   \n",
       "\n",
       "                                        References_2  \\\n",
       "0                                                NaN   \n",
       "1  http://patients.about.com/od/savemoneyondrugs/...   \n",
       "2                                                NaN   \n",
       "3    https://www.law.cornell.edu/uscode/text/18/1084   \n",
       "4  http://www.business-sweden.se/Export/Exportreg...   \n",
       "\n",
       "                                        References_3  \\\n",
       "0                                                NaN   \n",
       "1  http://www.cnbc.com/2014/05/23/patients-cross-...   \n",
       "2                                                NaN   \n",
       "3  http://www.fbi.gov/news/stories/2007/june/gamb...   \n",
       "4                                                NaN   \n",
       "\n",
       "                                        References_4  \n",
       "0                                                NaN  \n",
       "1  https://www.canadapost.ca/tools/pg/manual/PGcu...  \n",
       "2                                                NaN  \n",
       "3                                                NaN  \n",
       "4                                                NaN  "
      ]
     },
     "execution_count": 64,
     "metadata": {},
     "output_type": "execute_result"
    }
   ],
   "source": [
    "df.head()"
   ]
  },
  {
   "cell_type": "code",
   "execution_count": 66,
   "metadata": {},
   "outputs": [
    {
     "data": {
      "text/plain": [
       "(1821, 13)"
      ]
     },
     "execution_count": 66,
     "metadata": {},
     "output_type": "execute_result"
    }
   ],
   "source": [
    "df.shape"
   ]
  },
  {
   "cell_type": "code",
   "execution_count": 67,
   "metadata": {},
   "outputs": [
    {
     "data": {
      "text/plain": [
       "Index(['Country', 'Chapter', 'Subchapter', 'Type', 'Act/Practice', 'Coverage',\n",
       "       'Description', 'Time', 'Timeframe', 'References', 'References_2',\n",
       "       'References_3', 'References_4'],\n",
       "      dtype='object')"
      ]
     },
     "execution_count": 67,
     "metadata": {},
     "output_type": "execute_result"
    }
   ],
   "source": [
    "df.columns"
   ]
  },
  {
   "cell_type": "code",
   "execution_count": 68,
   "metadata": {},
   "outputs": [
    {
     "data": {
      "text/plain": [
       "array(['UNITED STATES', 'TURKEY', 'SWITZERLAND', 'SOUTH AFRICA', 'RUSSIA',\n",
       "       'PARAGUAY', 'PANAMA', 'PAKISTAN', 'NORWAY', 'NIGERIA', 'INDIA',\n",
       "       'ISRAEL', 'ICELAND', 'UNITED KINGDOM', 'SWEDEN', 'SPAIN',\n",
       "       'SLOVENIA', 'SLOVAKIA', 'ROMANIA', 'PORTUGAL', 'POLAND',\n",
       "       'NETHERLANDS', 'MALTA', 'LUXEMBOURG', 'LATVIA', 'LITHUANIA',\n",
       "       'ITALY', 'IRELAND', 'HUNGARY', 'GREECE', 'GERMANY', 'FRANCE',\n",
       "       'FINLAND', 'ESTONIA', 'DENMARK', 'CZECH REPUBLIC', 'CYPRUS',\n",
       "       'CROATIA', 'BULGARIA', 'BELGIUM', 'AUSTRIA', 'ECUADOR',\n",
       "       'COSTA RICA', 'COLOMBIA', 'ARGENTINA', 'THAILAND', 'TAIWAN',\n",
       "       'SINGAPORE', 'PHILIPPINES', 'NEW ZEALAND', 'MEXICO', 'MALAYSIA',\n",
       "       'KOREA', 'JAPAN', 'INDONESIA', 'HONG KONG', 'CHILE', 'CANADA',\n",
       "       'BRUNEI', 'PERU', 'AUSTRALIA', 'VIETNAM', 'CHINA', 'BRAZIL',\n",
       "       'EUROPEAN UNION', '0'], dtype=object)"
      ]
     },
     "execution_count": 68,
     "metadata": {},
     "output_type": "execute_result"
    }
   ],
   "source": [
    "df.Country.unique()"
   ]
  },
  {
   "cell_type": "code",
   "execution_count": 69,
   "metadata": {},
   "outputs": [
    {
     "data": {
      "text/plain": [
       "66"
      ]
     },
     "execution_count": 69,
     "metadata": {},
     "output_type": "execute_result"
    }
   ],
   "source": [
    "len(df.Country.unique())"
   ]
  },
  {
   "cell_type": "code",
   "execution_count": null,
   "metadata": {},
   "outputs": [],
   "source": []
  },
  {
   "cell_type": "markdown",
   "metadata": {},
   "source": [
    "___"
   ]
  },
  {
   "cell_type": "code",
   "execution_count": 70,
   "metadata": {},
   "outputs": [],
   "source": [
    "df_type_dataFlow = df[df.Subchapter == 'Restrictions on cross-border data flows']"
   ]
  },
  {
   "cell_type": "code",
   "execution_count": 71,
   "metadata": {},
   "outputs": [
    {
     "data": {
      "text/plain": [
       "(108, 13)"
      ]
     },
     "execution_count": 71,
     "metadata": {},
     "output_type": "execute_result"
    }
   ],
   "source": [
    "df_type_dataFlow.shape"
   ]
  },
  {
   "cell_type": "code",
   "execution_count": 126,
   "metadata": {},
   "outputs": [
    {
     "data": {
      "text/plain": [
       "46"
      ]
     },
     "execution_count": 126,
     "metadata": {},
     "output_type": "execute_result"
    }
   ],
   "source": [
    "len(df_type_dataFlow.Country.unique())"
   ]
  },
  {
   "cell_type": "code",
   "execution_count": 192,
   "metadata": {},
   "outputs": [],
   "source": [
    "time = df_type_dataFlow.Time.value_counts().rename_axis('Year').reset_index(name='Count')\n",
    "time.drop(time.index[28], inplace =True)"
   ]
  },
  {
   "cell_type": "code",
   "execution_count": 193,
   "metadata": {},
   "outputs": [],
   "source": [
    "time.Year = time.Year.astype(int)"
   ]
  },
  {
   "cell_type": "code",
   "execution_count": 194,
   "metadata": {},
   "outputs": [],
   "source": [
    "full_timeList = list(range(1972, 2020))\n",
    "\n",
    "for i in full_timeList:\n",
    "    if i in list(time['Year']):\n",
    "        continue\n",
    "    else:\n",
    "        time = time.append({'Year': i, 'Count':0}, ignore_index= True)\n",
    "        \n",
    "        \n",
    "time.sort_values(by='Year', inplace=True)\n",
    "time.reset_index(inplace = True)\n",
    "time.drop('index', axis=1, inplace = True)\n",
    "time.reset_index(inplace = True)\n",
    "time['index'] += 1"
   ]
  },
  {
   "cell_type": "code",
   "execution_count": 195,
   "metadata": {},
   "outputs": [
    {
     "data": {
      "text/html": [
       "<div>\n",
       "<style scoped>\n",
       "    .dataframe tbody tr th:only-of-type {\n",
       "        vertical-align: middle;\n",
       "    }\n",
       "\n",
       "    .dataframe tbody tr th {\n",
       "        vertical-align: top;\n",
       "    }\n",
       "\n",
       "    .dataframe thead th {\n",
       "        text-align: right;\n",
       "    }\n",
       "</style>\n",
       "<table border=\"1\" class=\"dataframe\">\n",
       "  <thead>\n",
       "    <tr style=\"text-align: right;\">\n",
       "      <th></th>\n",
       "      <th>index</th>\n",
       "      <th>Year</th>\n",
       "      <th>Count</th>\n",
       "    </tr>\n",
       "  </thead>\n",
       "  <tbody>\n",
       "    <tr>\n",
       "      <th>0</th>\n",
       "      <td>1</td>\n",
       "      <td>1972</td>\n",
       "      <td>1</td>\n",
       "    </tr>\n",
       "    <tr>\n",
       "      <th>1</th>\n",
       "      <td>2</td>\n",
       "      <td>1973</td>\n",
       "      <td>0</td>\n",
       "    </tr>\n",
       "    <tr>\n",
       "      <th>2</th>\n",
       "      <td>3</td>\n",
       "      <td>1974</td>\n",
       "      <td>0</td>\n",
       "    </tr>\n",
       "    <tr>\n",
       "      <th>3</th>\n",
       "      <td>4</td>\n",
       "      <td>1975</td>\n",
       "      <td>0</td>\n",
       "    </tr>\n",
       "    <tr>\n",
       "      <th>4</th>\n",
       "      <td>5</td>\n",
       "      <td>1976</td>\n",
       "      <td>0</td>\n",
       "    </tr>\n",
       "  </tbody>\n",
       "</table>\n",
       "</div>"
      ],
      "text/plain": [
       "   index  Year  Count\n",
       "0      1  1972      1\n",
       "1      2  1973      0\n",
       "2      3  1974      0\n",
       "3      4  1975      0\n",
       "4      5  1976      0"
      ]
     },
     "execution_count": 195,
     "metadata": {},
     "output_type": "execute_result"
    }
   ],
   "source": [
    "time.head()"
   ]
  },
  {
   "cell_type": "code",
   "execution_count": 175,
   "metadata": {},
   "outputs": [
    {
     "data": {
      "image/png": "[encoded data removed]",
      "text/plain": [
       "<Figure size 432x288 with 1 Axes>"
      ]
     },
     "metadata": {
      "needs_background": "light"
     },
     "output_type": "display_data"
    }
   ],
   "source": [
    "time_plot = time.plot.line(x = 'Year', y = 'Count')"
   ]
  },
  {
   "cell_type": "code",
   "execution_count": 141,
   "metadata": {},
   "outputs": [
    {
     "data": {
      "image/png": "[encoded data removed]",
      "text/plain": [
       "<Figure size 360x360 with 1 Axes>"
      ]
     },
     "metadata": {
      "needs_background": "light"
     },
     "output_type": "display_data"
    }
   ],
   "source": [
    "time_plot_v2 = sns.lmplot(x='Year',y='Count',data=time,fit_reg=True)"
   ]
  },
  {
   "cell_type": "code",
   "execution_count": 196,
   "metadata": {},
   "outputs": [
    {
     "data": {
      "text/html": [
       "<table class=\"simpletable\">\n",
       "<caption>OLS Regression Results</caption>\n",
       "<tr>\n",
       "  <th>Dep. Variable:</th>          <td>Count</td>      <th>  R-squared:         </th> <td>   0.657</td>\n",
       "</tr>\n",
       "<tr>\n",
       "  <th>Model:</th>                   <td>OLS</td>       <th>  Adj. R-squared:    </th> <td>   0.649</td>\n",
       "</tr>\n",
       "<tr>\n",
       "  <th>Method:</th>             <td>Least Squares</td>  <th>  F-statistic:       </th> <td>   89.84</td>\n",
       "</tr>\n",
       "<tr>\n",
       "  <th>Date:</th>             <td>Sun, 21 Jul 2019</td> <th>  Prob (F-statistic):</th> <td>1.75e-12</td>\n",
       "</tr>\n",
       "<tr>\n",
       "  <th>Time:</th>                 <td>23:27:34</td>     <th>  Log-Likelihood:    </th> <td> -105.33</td>\n",
       "</tr>\n",
       "<tr>\n",
       "  <th>No. Observations:</th>      <td>    48</td>      <th>  AIC:               </th> <td>   212.7</td>\n",
       "</tr>\n",
       "<tr>\n",
       "  <th>Df Residuals:</th>          <td>    47</td>      <th>  BIC:               </th> <td>   214.5</td>\n",
       "</tr>\n",
       "<tr>\n",
       "  <th>Df Model:</th>              <td>     1</td>      <th>                     </th>     <td> </td>   \n",
       "</tr>\n",
       "<tr>\n",
       "  <th>Covariance Type:</th>      <td>nonrobust</td>    <th>                     </th>     <td> </td>   \n",
       "</tr>\n",
       "</table>\n",
       "<table class=\"simpletable\">\n",
       "<tr>\n",
       "    <td></td>       <th>coef</th>     <th>std err</th>      <th>t</th>      <th>P>|t|</th>  <th>[0.025</th>    <th>0.975]</th>  \n",
       "</tr>\n",
       "<tr>\n",
       "  <th>index</th> <td>    0.1067</td> <td>    0.011</td> <td>    9.478</td> <td> 0.000</td> <td>    0.084</td> <td>    0.129</td>\n",
       "</tr>\n",
       "</table>\n",
       "<table class=\"simpletable\">\n",
       "<tr>\n",
       "  <th>Omnibus:</th>       <td>13.374</td> <th>  Durbin-Watson:     </th> <td>   0.686</td>\n",
       "</tr>\n",
       "<tr>\n",
       "  <th>Prob(Omnibus):</th> <td> 0.001</td> <th>  Jarque-Bera (JB):  </th> <td>  14.209</td>\n",
       "</tr>\n",
       "<tr>\n",
       "  <th>Skew:</th>          <td> 1.273</td> <th>  Prob(JB):          </th> <td>0.000821</td>\n",
       "</tr>\n",
       "<tr>\n",
       "  <th>Kurtosis:</th>      <td> 3.792</td> <th>  Cond. No.          </th> <td>    1.00</td>\n",
       "</tr>\n",
       "</table><br/><br/>Warnings:<br/>[1] Standard Errors assume that the covariance matrix of the errors is correctly specified."
      ],
      "text/plain": [
       "<class 'statsmodels.iolib.summary.Summary'>\n",
       "\"\"\"\n",
       "                            OLS Regression Results                            \n",
       "==============================================================================\n",
       "Dep. Variable:                  Count   R-squared:                       0.657\n",
       "Model:                            OLS   Adj. R-squared:                  0.649\n",
       "Method:                 Least Squares   F-statistic:                     89.84\n",
       "Date:                Sun, 21 Jul 2019   Prob (F-statistic):           1.75e-12\n",
       "Time:                        23:27:34   Log-Likelihood:                -105.33\n",
       "No. Observations:                  48   AIC:                             212.7\n",
       "Df Residuals:                      47   BIC:                             214.5\n",
       "Df Model:                           1                                         \n",
       "Covariance Type:            nonrobust                                         \n",
       "==============================================================================\n",
       "                 coef    std err          t      P>|t|      [0.025      0.975]\n",
       "------------------------------------------------------------------------------\n",
       "index          0.1067      0.011      9.478      0.000       0.084       0.129\n",
       "==============================================================================\n",
       "Omnibus:                       13.374   Durbin-Watson:                   0.686\n",
       "Prob(Omnibus):                  0.001   Jarque-Bera (JB):               14.209\n",
       "Skew:                           1.273   Prob(JB):                     0.000821\n",
       "Kurtosis:                       3.792   Cond. No.                         1.00\n",
       "==============================================================================\n",
       "\n",
       "Warnings:\n",
       "[1] Standard Errors assume that the covariance matrix of the errors is correctly specified.\n",
       "\"\"\""
      ]
     },
     "execution_count": 196,
     "metadata": {},
     "output_type": "execute_result"
    }
   ],
   "source": [
    "## Regression\n",
    "\n",
    "X = time[\"index\"]\n",
    "y = time[\"Count\"]\n",
    "\n",
    "# Note the difference in argument order\n",
    "model = sm.OLS(y, X).fit()\n",
    "predictions = model.predict(X) # make the predictions by the model\n",
    "\n",
    "# Print out the statistics\n",
    "model.summary()"
   ]
  },
  {
   "cell_type": "code",
   "execution_count": null,
   "metadata": {},
   "outputs": [],
   "source": []
  },
  {
   "cell_type": "code",
   "execution_count": 197,
   "metadata": {},
   "outputs": [
    {
     "name": "stdout",
     "output_type": "stream",
     "text": [
      "1.5615664267843348\n",
      "0.7327555400790073\n"
     ]
    },
    {
     "data": {
      "image/png": "[encoded data removed]",
      "text/plain": [
       "<Figure size 432x288 with 1 Axes>"
      ]
     },
     "metadata": {
      "needs_background": "light"
     },
     "output_type": "display_data"
    }
   ],
   "source": [
    "# transforming the data to include another axis\n",
    "x = X[:, np.newaxis]\n",
    "Y = y[:, np.newaxis]\n",
    "\n",
    "polynomial_features= PolynomialFeatures(degree=2)\n",
    "x_poly = polynomial_features.fit_transform(x)\n",
    "\n",
    "model = LinearRegression()\n",
    "model.fit(x_poly, Y)\n",
    "y_poly_pred = model.predict(x_poly)\n",
    "\n",
    "rmse = np.sqrt(mean_squared_error(Y,y_poly_pred))\n",
    "r2 = r2_score(Y,y_poly_pred)\n",
    "print(rmse)\n",
    "print(r2)\n",
    "\n",
    "plt.scatter(x, Y, s=10)\n",
    "# sort the values of x before line plot\n",
    "sort_axis = operator.itemgetter(0)\n",
    "sorted_zip = sorted(zip(x,y_poly_pred), key=sort_axis)\n",
    "x, y_poly_pred = zip(*sorted_zip)\n",
    "plt.plot(x, y_poly_pred, color='m')\n",
    "plt.show()"
   ]
  },
  {
   "cell_type": "code",
   "execution_count": 198,
   "metadata": {},
   "outputs": [
    {
     "data": {
      "text/html": [
       "<table class=\"simpletable\">\n",
       "<caption>OLS Regression Results</caption>\n",
       "<tr>\n",
       "  <th>Dep. Variable:</th>            <td>y</td>        <th>  R-squared:         </th> <td>   0.733</td>\n",
       "</tr>\n",
       "<tr>\n",
       "  <th>Model:</th>                   <td>OLS</td>       <th>  Adj. R-squared:    </th> <td>   0.727</td>\n",
       "</tr>\n",
       "<tr>\n",
       "  <th>Method:</th>             <td>Least Squares</td>  <th>  F-statistic:       </th> <td>   126.4</td>\n",
       "</tr>\n",
       "<tr>\n",
       "  <th>Date:</th>             <td>Sun, 21 Jul 2019</td> <th>  Prob (F-statistic):</th> <td>8.67e-15</td>\n",
       "</tr>\n",
       "<tr>\n",
       "  <th>Time:</th>                 <td>23:27:43</td>     <th>  Log-Likelihood:    </th> <td> -89.471</td>\n",
       "</tr>\n",
       "<tr>\n",
       "  <th>No. Observations:</th>      <td>    48</td>      <th>  AIC:               </th> <td>   182.9</td>\n",
       "</tr>\n",
       "<tr>\n",
       "  <th>Df Residuals:</th>          <td>    46</td>      <th>  BIC:               </th> <td>   186.7</td>\n",
       "</tr>\n",
       "<tr>\n",
       "  <th>Df Model:</th>              <td>     1</td>      <th>                     </th>     <td> </td>   \n",
       "</tr>\n",
       "<tr>\n",
       "  <th>Covariance Type:</th>      <td>nonrobust</td>    <th>                     </th>     <td> </td>   \n",
       "</tr>\n",
       "</table>\n",
       "<table class=\"simpletable\">\n",
       "<tr>\n",
       "      <td></td>         <th>coef</th>     <th>std err</th>      <th>t</th>      <th>P>|t|</th>  <th>[0.025</th>    <th>0.975]</th>  \n",
       "</tr>\n",
       "<tr>\n",
       "  <th>Intercept</th> <td> 1.388e-15</td> <td>    0.299</td> <td> 4.64e-15</td> <td> 1.000</td> <td>   -0.602</td> <td>    0.602</td>\n",
       "</tr>\n",
       "<tr>\n",
       "  <th>model(X)</th>  <td>    1.0000</td> <td>    0.089</td> <td>   11.241</td> <td> 0.000</td> <td>    0.821</td> <td>    1.179</td>\n",
       "</tr>\n",
       "</table>\n",
       "<table class=\"simpletable\">\n",
       "<tr>\n",
       "  <th>Omnibus:</th>       <td>27.629</td> <th>  Durbin-Watson:     </th> <td>   1.360</td>\n",
       "</tr>\n",
       "<tr>\n",
       "  <th>Prob(Omnibus):</th> <td> 0.000</td> <th>  Jarque-Bera (JB):  </th> <td>  80.009</td>\n",
       "</tr>\n",
       "<tr>\n",
       "  <th>Skew:</th>          <td>-1.420</td> <th>  Prob(JB):          </th> <td>4.23e-18</td>\n",
       "</tr>\n",
       "<tr>\n",
       "  <th>Kurtosis:</th>      <td> 8.652</td> <th>  Cond. No.          </th> <td>    4.53</td>\n",
       "</tr>\n",
       "</table><br/><br/>Warnings:<br/>[1] Standard Errors assume that the covariance matrix of the errors is correctly specified."
      ],
      "text/plain": [
       "<class 'statsmodels.iolib.summary.Summary'>\n",
       "\"\"\"\n",
       "                            OLS Regression Results                            \n",
       "==============================================================================\n",
       "Dep. Variable:                      y   R-squared:                       0.733\n",
       "Model:                            OLS   Adj. R-squared:                  0.727\n",
       "Method:                 Least Squares   F-statistic:                     126.4\n",
       "Date:                Sun, 21 Jul 2019   Prob (F-statistic):           8.67e-15\n",
       "Time:                        23:27:43   Log-Likelihood:                -89.471\n",
       "No. Observations:                  48   AIC:                             182.9\n",
       "Df Residuals:                      46   BIC:                             186.7\n",
       "Df Model:                           1                                         \n",
       "Covariance Type:            nonrobust                                         \n",
       "==============================================================================\n",
       "                 coef    std err          t      P>|t|      [0.025      0.975]\n",
       "------------------------------------------------------------------------------\n",
       "Intercept   1.388e-15      0.299   4.64e-15      1.000      -0.602       0.602\n",
       "model(X)       1.0000      0.089     11.241      0.000       0.821       1.179\n",
       "==============================================================================\n",
       "Omnibus:                       27.629   Durbin-Watson:                   1.360\n",
       "Prob(Omnibus):                  0.000   Jarque-Bera (JB):               80.009\n",
       "Skew:                          -1.420   Prob(JB):                     4.23e-18\n",
       "Kurtosis:                       8.652   Cond. No.                         4.53\n",
       "==============================================================================\n",
       "\n",
       "Warnings:\n",
       "[1] Standard Errors assume that the covariance matrix of the errors is correctly specified.\n",
       "\"\"\""
      ]
     },
     "execution_count": 198,
     "metadata": {},
     "output_type": "execute_result"
    }
   ],
   "source": [
    "degree = 3\n",
    "\n",
    "df_poly = pd.DataFrame(columns=['y', 'x'])\n",
    "df_poly['x'] = X\n",
    "df_poly['y'] = y\n",
    "\n",
    "weights = np.polyfit(X, y, degree)\n",
    "model = np.poly1d(weights)\n",
    "results = smf.ols(formula='y ~ model(X)', data=df_poly).fit()\n",
    "results.summary()"
   ]
  },
  {
   "cell_type": "code",
   "execution_count": 133,
   "metadata": {},
   "outputs": [],
   "source": []
  },
  {
   "cell_type": "code",
   "execution_count": 135,
   "metadata": {
    "scrolled": true
   },
   "outputs": [],
   "source": []
  },
  {
   "cell_type": "code",
   "execution_count": null,
   "metadata": {},
   "outputs": [],
   "source": []
  },
  {
   "cell_type": "code",
   "execution_count": null,
   "metadata": {},
   "outputs": [],
   "source": []
  }
 ],
 "metadata": {
  "kernelspec": {
   "display_name": "Python 3",
   "language": "python",
   "name": "python3"
  },
  "language_info": {
   "codemirror_mode": {
    "name": "ipython",
    "version": 3
   },
   "file_extension": ".py",
   "mimetype": "text/x-python",
   "name": "python",
   "nbconvert_exporter": "python",
   "pygments_lexer": "ipython3",
   "version": "3.7.3"
  }
 },
 "nbformat": 4,
 "nbformat_minor": 2
}
